{
 "cells": [
  {
   "cell_type": "code",
   "execution_count": 1,
   "id": "d30dbe9c",
   "metadata": {},
   "outputs": [],
   "source": [
    "\n",
    "# https://github.com/pourya-ir/Medium/blob/master/Time%20Series%20Machine%20Learning%20Regression%20Framework.ipynb\n",
    "\n",
    "# This notebook shows model including impact\n",
    "\n",
    "# Model with parameters: model = SVR(kernel= 'rbf',C= 2.4,epsilon= .0348,shrinking=False,cache_size = 8000)\n",
    "\n",
    "import pandas as pd\n",
    "import numpy as np\n",
    "import matplotlib.pyplot as plt\n",
    "%matplotlib inline\n",
    "\n",
    "from sklearn.pipeline import Pipeline\n",
    "from sklearn.metrics import mean_squared_log_error\n",
    "from sklearn.svm import SVR\n",
    "\n",
    "from sklearn import base\n",
    "\n",
    "import warnings\n",
    "warnings.filterwarnings('ignore')"
   ]
  },
  {
   "cell_type": "markdown",
   "id": "29cf94d9",
   "metadata": {},
   "source": [
    "# Data Prep"
   ]
  },
  {
   "cell_type": "code",
   "execution_count": 2,
   "id": "573b3616",
   "metadata": {},
   "outputs": [
    {
     "data": {
      "text/html": [
       "<div>\n",
       "<style scoped>\n",
       "    .dataframe tbody tr th:only-of-type {\n",
       "        vertical-align: middle;\n",
       "    }\n",
       "\n",
       "    .dataframe tbody tr th {\n",
       "        vertical-align: top;\n",
       "    }\n",
       "\n",
       "    .dataframe thead th {\n",
       "        text-align: right;\n",
       "    }\n",
       "</style>\n",
       "<table border=\"1\" class=\"dataframe\">\n",
       "  <thead>\n",
       "    <tr style=\"text-align: right;\">\n",
       "      <th></th>\n",
       "      <th>USASTATE</th>\n",
       "      <th>VALUE</th>\n",
       "      <th>impact</th>\n",
       "      <th>month_seq</th>\n",
       "    </tr>\n",
       "  </thead>\n",
       "  <tbody>\n",
       "    <tr>\n",
       "      <th>0</th>\n",
       "      <td>2</td>\n",
       "      <td>0.005562</td>\n",
       "      <td>0.003012</td>\n",
       "      <td>0</td>\n",
       "    </tr>\n",
       "    <tr>\n",
       "      <th>1</th>\n",
       "      <td>1</td>\n",
       "      <td>0.024734</td>\n",
       "      <td>0.000659</td>\n",
       "      <td>0</td>\n",
       "    </tr>\n",
       "    <tr>\n",
       "      <th>2</th>\n",
       "      <td>5</td>\n",
       "      <td>0.019671</td>\n",
       "      <td>0.014509</td>\n",
       "      <td>0</td>\n",
       "    </tr>\n",
       "    <tr>\n",
       "      <th>3</th>\n",
       "      <td>4</td>\n",
       "      <td>0.015062</td>\n",
       "      <td>0.009298</td>\n",
       "      <td>0</td>\n",
       "    </tr>\n",
       "    <tr>\n",
       "      <th>4</th>\n",
       "      <td>6</td>\n",
       "      <td>0.217410</td>\n",
       "      <td>0.006904</td>\n",
       "      <td>0</td>\n",
       "    </tr>\n",
       "    <tr>\n",
       "      <th>...</th>\n",
       "      <td>...</td>\n",
       "      <td>...</td>\n",
       "      <td>...</td>\n",
       "      <td>...</td>\n",
       "    </tr>\n",
       "    <tr>\n",
       "      <th>5860</th>\n",
       "      <td>50</td>\n",
       "      <td>0.032248</td>\n",
       "      <td>0.000000</td>\n",
       "      <td>114</td>\n",
       "    </tr>\n",
       "    <tr>\n",
       "      <th>5861</th>\n",
       "      <td>53</td>\n",
       "      <td>0.138618</td>\n",
       "      <td>0.000003</td>\n",
       "      <td>114</td>\n",
       "    </tr>\n",
       "    <tr>\n",
       "      <th>5862</th>\n",
       "      <td>55</td>\n",
       "      <td>0.071326</td>\n",
       "      <td>0.000000</td>\n",
       "      <td>114</td>\n",
       "    </tr>\n",
       "    <tr>\n",
       "      <th>5863</th>\n",
       "      <td>54</td>\n",
       "      <td>0.020216</td>\n",
       "      <td>0.000000</td>\n",
       "      <td>114</td>\n",
       "    </tr>\n",
       "    <tr>\n",
       "      <th>5864</th>\n",
       "      <td>56</td>\n",
       "      <td>0.004706</td>\n",
       "      <td>0.000000</td>\n",
       "      <td>114</td>\n",
       "    </tr>\n",
       "  </tbody>\n",
       "</table>\n",
       "<p>5865 rows × 4 columns</p>\n",
       "</div>"
      ],
      "text/plain": [
       "      USASTATE     VALUE    impact  month_seq\n",
       "0            2  0.005562  0.003012          0\n",
       "1            1  0.024734  0.000659          0\n",
       "2            5  0.019671  0.014509          0\n",
       "3            4  0.015062  0.009298          0\n",
       "4            6  0.217410  0.006904          0\n",
       "...        ...       ...       ...        ...\n",
       "5860        50  0.032248  0.000000        114\n",
       "5861        53  0.138618  0.000003        114\n",
       "5862        55  0.071326  0.000000        114\n",
       "5863        54  0.020216  0.000000        114\n",
       "5864        56  0.004706  0.000000        114\n",
       "\n",
       "[5865 rows x 4 columns]"
      ]
     },
     "execution_count": 2,
     "metadata": {},
     "output_type": "execute_result"
    }
   ],
   "source": [
    "df_data = pd.read_csv('final_data.csv')\n",
    "df_data = df_data.drop(columns=['Date'])\n",
    "# TRDTYPE: 1 - Export, 2 - Import\n",
    "# DISAGMOT: 1 - Truck, 2 - Air\n",
    "# COUNTRY: 1 - Canada, 2 - Mexico\n",
    "df_data_2_x_1_1 = df_data[(df_data['TRDTYPE'] == 2) & (df_data['DISAGMOT'] == 1) & (df_data['COUNTRY'] == 1)].copy()\n",
    "\n",
    "\n",
    "df_data_2_x_1_1 = df_data_2_x_1_1.drop(columns=['TRDTYPE','DISAGMOT','COUNTRY','MONTH','YEAR'])\n",
    "df_data_2_x_1_1 = df_data_2_x_1_1.reset_index().drop(columns= 'index')\n",
    "df_data_2_x_1_1['VALUE'] = df_data_2_x_1_1['VALUE']/df_data_2_x_1_1['VALUE'].max()\n",
    "df_data_2_x_1_1['impact'] = df_data_2_x_1_1['impact']/df_data_2_x_1_1['impact'].max()\n",
    "df_data_2_x_1_1"
   ]
  },
  {
   "cell_type": "code",
   "execution_count": 3,
   "id": "2fdbb951-9e26-45aa-a166-f62ef42fe512",
   "metadata": {},
   "outputs": [
    {
     "data": {
      "text/html": [
       "<div>\n",
       "<style scoped>\n",
       "    .dataframe tbody tr th:only-of-type {\n",
       "        vertical-align: middle;\n",
       "    }\n",
       "\n",
       "    .dataframe tbody tr th {\n",
       "        vertical-align: top;\n",
       "    }\n",
       "\n",
       "    .dataframe thead th {\n",
       "        text-align: right;\n",
       "    }\n",
       "</style>\n",
       "<table border=\"1\" class=\"dataframe\">\n",
       "  <thead>\n",
       "    <tr style=\"text-align: right;\">\n",
       "      <th></th>\n",
       "      <th>TRDTYPE</th>\n",
       "      <th>USASTATE</th>\n",
       "      <th>DISAGMOT</th>\n",
       "      <th>COUNTRY</th>\n",
       "      <th>MONTH</th>\n",
       "      <th>YEAR</th>\n",
       "      <th>VALUE</th>\n",
       "      <th>impact</th>\n",
       "      <th>month_seq</th>\n",
       "    </tr>\n",
       "  </thead>\n",
       "  <tbody>\n",
       "    <tr>\n",
       "      <th>0</th>\n",
       "      <td>1</td>\n",
       "      <td>2</td>\n",
       "      <td>2</td>\n",
       "      <td>1</td>\n",
       "      <td>6</td>\n",
       "      <td>2010</td>\n",
       "      <td>218276</td>\n",
       "      <td>1851.0</td>\n",
       "      <td>0</td>\n",
       "    </tr>\n",
       "    <tr>\n",
       "      <th>1</th>\n",
       "      <td>1</td>\n",
       "      <td>2</td>\n",
       "      <td>1</td>\n",
       "      <td>1</td>\n",
       "      <td>6</td>\n",
       "      <td>2010</td>\n",
       "      <td>17127165</td>\n",
       "      <td>1851.0</td>\n",
       "      <td>0</td>\n",
       "    </tr>\n",
       "    <tr>\n",
       "      <th>2</th>\n",
       "      <td>2</td>\n",
       "      <td>2</td>\n",
       "      <td>2</td>\n",
       "      <td>1</td>\n",
       "      <td>6</td>\n",
       "      <td>2010</td>\n",
       "      <td>2468944</td>\n",
       "      <td>1851.0</td>\n",
       "      <td>0</td>\n",
       "    </tr>\n",
       "    <tr>\n",
       "      <th>3</th>\n",
       "      <td>2</td>\n",
       "      <td>2</td>\n",
       "      <td>1</td>\n",
       "      <td>1</td>\n",
       "      <td>6</td>\n",
       "      <td>2010</td>\n",
       "      <td>16985164</td>\n",
       "      <td>1851.0</td>\n",
       "      <td>0</td>\n",
       "    </tr>\n",
       "    <tr>\n",
       "      <th>4</th>\n",
       "      <td>1</td>\n",
       "      <td>2</td>\n",
       "      <td>2</td>\n",
       "      <td>2</td>\n",
       "      <td>6</td>\n",
       "      <td>2010</td>\n",
       "      <td>11003</td>\n",
       "      <td>1851.0</td>\n",
       "      <td>0</td>\n",
       "    </tr>\n",
       "  </tbody>\n",
       "</table>\n",
       "</div>"
      ],
      "text/plain": [
       "   TRDTYPE  USASTATE  DISAGMOT  COUNTRY  MONTH  YEAR     VALUE  impact  \\\n",
       "0        1         2         2        1      6  2010    218276  1851.0   \n",
       "1        1         2         1        1      6  2010  17127165  1851.0   \n",
       "2        2         2         2        1      6  2010   2468944  1851.0   \n",
       "3        2         2         1        1      6  2010  16985164  1851.0   \n",
       "4        1         2         2        2      6  2010     11003  1851.0   \n",
       "\n",
       "   month_seq  \n",
       "0          0  \n",
       "1          0  \n",
       "2          0  \n",
       "3          0  \n",
       "4          0  "
      ]
     },
     "execution_count": 3,
     "metadata": {},
     "output_type": "execute_result"
    }
   ],
   "source": [
    "df_data.head()"
   ]
  },
  {
   "cell_type": "code",
   "execution_count": 4,
   "id": "4b2a0344-e61d-4704-a499-c55d40350141",
   "metadata": {},
   "outputs": [
    {
     "name": "stdout",
     "output_type": "stream",
     "text": [
      "<class 'pandas.core.frame.DataFrame'>\n",
      "RangeIndex: 46749 entries, 0 to 46748\n",
      "Data columns (total 9 columns):\n",
      " #   Column     Non-Null Count  Dtype  \n",
      "---  ------     --------------  -----  \n",
      " 0   TRDTYPE    46749 non-null  int64  \n",
      " 1   USASTATE   46749 non-null  int64  \n",
      " 2   DISAGMOT   46749 non-null  int64  \n",
      " 3   COUNTRY    46749 non-null  int64  \n",
      " 4   MONTH      46749 non-null  int64  \n",
      " 5   YEAR       46749 non-null  int64  \n",
      " 6   VALUE      46749 non-null  int64  \n",
      " 7   impact     46749 non-null  float64\n",
      " 8   month_seq  46749 non-null  int64  \n",
      "dtypes: float64(1), int64(8)\n",
      "memory usage: 3.2 MB\n"
     ]
    }
   ],
   "source": [
    "df_data.info()"
   ]
  },
  {
   "cell_type": "markdown",
   "id": "0f618a0f",
   "metadata": {},
   "source": [
    "# To Supervised"
   ]
  },
  {
   "cell_type": "code",
   "execution_count": 5,
   "id": "f36aef72",
   "metadata": {},
   "outputs": [],
   "source": [
    "class ToSupervised(base.BaseEstimator,base.TransformerMixin):\n",
    "    \n",
    "    def __init__(self,col,groupCol,numLags,dropna=False):\n",
    "        \n",
    "        self.col = col\n",
    "        self.groupCol = groupCol\n",
    "        self.numLags = numLags\n",
    "        self.dropna = dropna\n",
    "        \n",
    "    def fit(self,X,y=None):\n",
    "        self.X = X\n",
    "        return self\n",
    "    \n",
    "    def transform(self,X):\n",
    "        tmp = self.X.copy()\n",
    "        for i in range(1,self.numLags+1):\n",
    "            tmp[str(i)+'_prev_months'+\"_\"+self.col] = tmp.groupby([self.groupCol])[self.col].shift(i) \n",
    "            \n",
    "        if self.dropna:\n",
    "            tmp = tmp.dropna()\n",
    "            tmp = tmp.reset_index(drop=True)\n",
    "            \n",
    "        return tmp"
   ]
  },
  {
   "cell_type": "code",
   "execution_count": 6,
   "id": "39998b4e",
   "metadata": {},
   "outputs": [],
   "source": [
    "class ToSupervisedDiff(base.BaseEstimator,base.TransformerMixin):\n",
    "    \n",
    "    def __init__(self,col,groupCol,numLags,dropna=False):\n",
    "        \n",
    "        self.col = col\n",
    "        self.groupCol = groupCol\n",
    "        self.numLags = numLags\n",
    "        self.dropna = dropna\n",
    "        \n",
    "    def fit(self,X,y=None):\n",
    "        self.X = X\n",
    "        return self\n",
    "    \n",
    "    def transform(self,X):\n",
    "        tmp = self.X.copy()\n",
    "        for i in range(1,self.numLags+1):\n",
    "            tmp[str(i)+'_prev_months_diff_'+\"_\"+self.col] = tmp.groupby([self.groupCol])[self.col].diff(i) \n",
    "            \n",
    "        if self.dropna:\n",
    "            tmp = tmp.dropna()\n",
    "            tmp = tmp.reset_index(drop=True)\n",
    "            \n",
    "        return tmp"
   ]
  },
  {
   "cell_type": "markdown",
   "id": "0d4f1e30",
   "metadata": {},
   "source": [
    "# Time Series K-Fold"
   ]
  },
  {
   "cell_type": "code",
   "execution_count": 7,
   "id": "3959326e",
   "metadata": {},
   "outputs": [],
   "source": [
    "from itertools import chain\n",
    "class Kfold_time(object):\n",
    "    \n",
    "    def __init__(self,**options):\n",
    "        \n",
    "        \n",
    "        self.target     = options.pop('target', None)\n",
    "        self.date_col   = options.pop('date_col', None)\n",
    "        self.date_init  = options.pop('date_init', None)\n",
    "        self.date_final = options.pop('date_final', None)\n",
    "\n",
    "        if options:\n",
    "            raise TypeError(\"Invalid parameters passed: %s\" % str(options))\n",
    "            \n",
    "        if ((self.target==None )| (self.date_col==None )| (self.date_init==None ) | (self.date_final==None )):\n",
    "            raise TypeError(\"Incomplete inputs\")\n",
    "    \n",
    "    def _train_test_split_time(self,X):\n",
    "        n_arrays = len(X)\n",
    "        if n_arrays == 0:\n",
    "            raise ValueError(\"At least one array required as input\")\n",
    "\n",
    "        for i in range(self.date_init,self.date_final):\n",
    "\n",
    "            train = X[X[self.date_col] < i]\n",
    "            val   = X[X[self.date_col] == i]\n",
    "\n",
    "            X_train, X_test = train.drop([self.target], axis=1), val.drop([self.target], axis=1)\n",
    "            y_train, y_test = train[self.target].values, val[self.target].values\n",
    "\n",
    "            yield X_train, X_test, y_train, y_test\n",
    "\n",
    "    \n",
    "    def split(self,X):\n",
    "        cv_t = self._train_test_split_time(X)\n",
    "        return chain(cv_t)"
   ]
  },
  {
   "cell_type": "markdown",
   "id": "7d6be2f4",
   "metadata": {},
   "source": [
    "# Metric: RMSLE"
   ]
  },
  {
   "cell_type": "code",
   "execution_count": 8,
   "id": "d3ebdc92",
   "metadata": {},
   "outputs": [],
   "source": [
    "def rmsle(ytrue, ypred):\n",
    "    return np.sqrt(mean_squared_log_error(ytrue, ypred))"
   ]
  },
  {
   "cell_type": "markdown",
   "id": "cb2abc61",
   "metadata": {},
   "source": [
    "# Baseline Estimator"
   ]
  },
  {
   "cell_type": "code",
   "execution_count": 9,
   "id": "d44e2033",
   "metadata": {},
   "outputs": [],
   "source": [
    "class BaseEstimator(base.BaseEstimator, base.RegressorMixin):\n",
    "    def __init__(self, predCol):\n",
    "        \"\"\"\n",
    "            As a base model we assume the VALUE last month and this month are the same\n",
    "            Input: \n",
    "                    predCol: l-month ago VALUE\n",
    "        \"\"\"\n",
    "        self.predCol = predCol\n",
    "\n",
    "        \n",
    "    def fit(self, X, y):\n",
    "        return self\n",
    "\n",
    "\n",
    "    def predict(self, X):\n",
    "        prediction = X[self.predCol].values\n",
    "        return prediction\n",
    "\n",
    "    def score(self, X, y,scoring):\n",
    "        \n",
    "        prediction = self.predict(X)\n",
    "    \n",
    "        error =scoring(y, prediction)# np.sqrt(mean_squared_log_error(y, prediction))\n",
    "        return error "
   ]
  },
  {
   "cell_type": "markdown",
   "id": "ef5d0366",
   "metadata": {},
   "source": [
    "# Time Series Regression"
   ]
  },
  {
   "cell_type": "code",
   "execution_count": 10,
   "id": "55c633ba",
   "metadata": {},
   "outputs": [],
   "source": [
    "class TimeSeriesRegressor(base.BaseEstimator, base.RegressorMixin):\n",
    "    \n",
    "    def __init__(self,model,cv,scoring,verbosity=True):\n",
    "        self.model = model\n",
    "        self.cv = cv\n",
    "        self.verbosity = verbosity\n",
    "        self.scoring = scoring \n",
    "        \n",
    "            \n",
    "    def fit(self,X,y=None):\n",
    "        return self\n",
    "        \n",
    "    \n",
    "    def predict(self,X=None):\n",
    "        \n",
    "        pred = {}\n",
    "        for indx,fold in enumerate(self.cv.split(X)):\n",
    "\n",
    "            X_train, X_test, y_train, y_test = fold    \n",
    "            self.model.fit(X_train, y_train)\n",
    "            pred[str(indx)+'_fold'] = self.model.predict(X_test)\n",
    "            \n",
    "        prediction = pd.DataFrame(pred)\n",
    "    \n",
    "        return prediction\n",
    "    \n",
    "\n",
    "    def score(self,X,y=None):\n",
    "\n",
    "\n",
    "        errors = []\n",
    "        for indx,fold in enumerate(self.cv.split(X)):\n",
    "\n",
    "            X_train, X_test, y_train, y_test = fold    \n",
    "            self.model.fit(X_train, y_train)\n",
    "            prediction = self.model.predict(X_test)\n",
    "            error = self.scoring(y_test, prediction)\n",
    "            errors.append(error)\n",
    "\n",
    "            if self.verbosity:\n",
    "                print(\"Fold: {}, Error: {:.4f}\".format(indx,error))\n",
    "\n",
    "        if self.verbosity:\n",
    "            print('Total Error {:.4f}'.format(np.mean(errors)))\n",
    "\n",
    "        return errors"
   ]
  },
  {
   "cell_type": "code",
   "execution_count": 11,
   "id": "2b1d610b",
   "metadata": {},
   "outputs": [],
   "source": [
    "class TimeSeriesRegressorLog(base.BaseEstimator, base.RegressorMixin):\n",
    "    \n",
    "    def __init__(self,model,cv,scoring,verbosity=True):\n",
    "        self.model = model\n",
    "        self.cv = cv\n",
    "        self.verbosity = verbosity\n",
    "        self.scoring = scoring\n",
    "        \n",
    "            \n",
    "    def fit(self,X,y=None):\n",
    "        return self\n",
    "        \n",
    "    \n",
    "    def predict(self,X=None):\n",
    "        \n",
    "        pred = {}\n",
    "        for indx,fold in enumerate(self.cv.split(X)):\n",
    "\n",
    "            X_train, X_test, y_train, y_test = fold    \n",
    "            self.model.fit(X_train, y_train)\n",
    "            pred[str(indx)+'_fold'] = self.model.predict(X_test)\n",
    "            \n",
    "        prediction = pd.DataFrame(pred)\n",
    "    \n",
    "        return prediction\n",
    "\n",
    "    \n",
    "    def score(self,X,y=None):#**options):\n",
    "\n",
    "\n",
    "        errors = []\n",
    "        for indx,fold in enumerate(self.cv.split(X)):\n",
    "\n",
    "            X_train, X_test, y_train, y_test = fold    \n",
    "            self.model.fit(X_train, np.log1p(y_train))\n",
    "            prediction = np.expm1(self.model.predict(X_test))\n",
    "            error = self.scoring(y_test, prediction)\n",
    "            errors.append(error)\n",
    "\n",
    "            if self.verbosity:\n",
    "                print(\"Fold: {}, Error: {:.4f}\".format(indx,error))\n",
    "\n",
    "        if self.verbosity:\n",
    "                print('Total Error {:.4f}'.format(np.mean(errors)))\n",
    "\n",
    "        return errors"
   ]
  },
  {
   "cell_type": "markdown",
   "id": "07fda737",
   "metadata": {},
   "source": [
    "# Steps Tuning"
   ]
  },
  {
   "cell_type": "code",
   "execution_count": 12,
   "id": "298f9dcc",
   "metadata": {},
   "outputs": [],
   "source": [
    "def getDataFramePipeline(i):\n",
    "    steps = [(str(i)+'_step_1',ToSupervised('VALUE','USASTATE',i)),\n",
    "             (str(i)+'_step_2',ToSupervised('impact','USASTATE',i))]\n",
    "    for j in range(1,i+1):\n",
    "        if i==j:\n",
    "\n",
    "            pp1 = (str(j)+'_step_diff_1',\n",
    "                  ToSupervisedDiff(str(i)+'_prev_months_VALUE','USASTATE',1,dropna=True))\n",
    "            steps.append(pp1)\n",
    "            pp2 = (str(j)+'_step_diff_2',\n",
    "                  ToSupervisedDiff(str(i)+'_prev_months_impact','USASTATE',1,dropna=True))\n",
    "            steps.append(pp2)\n",
    "        else:\n",
    "\n",
    "            pp1 = (str(j)+'_step_diff_1',\n",
    "                  ToSupervisedDiff(str(i)+'_prev_months_VALUE','USASTATE',1))\n",
    "            steps.append(pp1)\n",
    "            pp2 = (str(j)+'_step_diff_2',\n",
    "                  ToSupervisedDiff(str(i)+'_prev_months_impact','USASTATE',1))\n",
    "            steps.append(pp2)\n",
    "            \n",
    "    return steps"
   ]
  },
  {
   "cell_type": "code",
   "execution_count": 13,
   "id": "de0e5fab",
   "metadata": {},
   "outputs": [],
   "source": [
    "from tqdm import tqdm\n",
    "def stepsTune(X,model,num_steps,init=1):\n",
    "    scores = []\n",
    "    for i in tqdm(range(init,num_steps+1)):\n",
    "        steps = []\n",
    "        steps.extend(getDataFramePipeline(i))\n",
    "        steps.append(('predic_1',model))\n",
    "        super_ = Pipeline(steps).fit(X)\n",
    "        score_ = np.mean(super_.score(X))\n",
    "        scores.append((i,score_))\n",
    "        \n",
    "    return scores"
   ]
  },
  {
   "cell_type": "markdown",
   "id": "e7807c6c",
   "metadata": {},
   "source": [
    "# Tune Hyperparameters"
   ]
  },
  {
   "cell_type": "code",
   "execution_count": 14,
   "id": "7b2e7c84",
   "metadata": {},
   "outputs": [],
   "source": [
    "from collections.abc import Mapping, Sequence, Iterable\n",
    "from itertools import product\n",
    "from functools import partial, reduce\n",
    "import operator\n",
    "\n",
    "class TimeGridBasic(base.BaseEstimator, base.RegressorMixin):\n",
    "    \n",
    "    def __init__(self,param_grid):\n",
    "        \n",
    "    \n",
    "        if not isinstance(param_grid, (Mapping, Iterable)):\n",
    "                raise TypeError('Parameter grid is not a dict or '\n",
    "                                'a list ({!r})'.format(param_grid))\n",
    "\n",
    "        if isinstance(param_grid, Mapping):\n",
    "                # wrap dictionary in a singleton list to support either dict\n",
    "                # or list of dicts\n",
    "                param_grid = [param_grid]\n",
    "\n",
    "\n",
    "        if isinstance(param_grid, Mapping):\n",
    "                # wrap dictionary in a singleton list to support either dict\n",
    "                # or list of dicts\n",
    "                param_grid = [param_grid]\n",
    "\n",
    "        # check if all entries are dictionaries of lists\n",
    "        for grid in param_grid:\n",
    "            if not isinstance(grid, dict):\n",
    "                raise TypeError('Parameter grid is not a '\n",
    "                                'dict ({!r})'.format(grid))\n",
    "            for key in grid:\n",
    "                if not isinstance(grid[key], Iterable):\n",
    "                    raise TypeError('Parameter grid value is not iterable '\n",
    "                                    '(key={!r}, value={!r})'\n",
    "                                    .format(key, grid[key]))\n",
    "\n",
    "\n",
    "        self.param_grid = param_grid\n",
    "                \n",
    "    def __iter__(self):\n",
    "        \"\"\"Iterate over the points in the grid.\n",
    "        Returns\n",
    "        -------\n",
    "        params : iterator over dict of string to any\n",
    "            Yields dictionaries mapping each estimator parameter to one of its\n",
    "            allowed values.\n",
    "        \"\"\"\n",
    "        for p in self.param_grid:\n",
    "            # Always sort the keys of a dictionary, for reproducibility\n",
    "            items = sorted(p.items())\n",
    "            if not items:\n",
    "                yield {}\n",
    "            else:\n",
    "                keys, values = zip(*items)\n",
    "                for v in product(*values):\n",
    "                    params = dict(zip(keys, v))\n",
    "                    yield params"
   ]
  },
  {
   "cell_type": "code",
   "execution_count": 15,
   "id": "b24eea7f",
   "metadata": {},
   "outputs": [],
   "source": [
    "class TimeSeriesGridSearch(TimeGridBasic,base.BaseEstimator, base.RegressorMixin):\n",
    "    \n",
    "    \n",
    "    def __init__(self,**options):\n",
    "        \n",
    "        self.model      = options.pop('model', None)\n",
    "        self.cv         = options.pop('cv', None)\n",
    "        self.verbosity  = options.pop('verbosity', False)\n",
    "        self.scoring    = options.pop('scoring', None)\n",
    "        param_grid      = options.pop('param_grid', None)\n",
    "        self.param_grid = TimeGridBasic(param_grid)\n",
    "        \n",
    "        if options:\n",
    "            raise TypeError(\"Invalid parameters passed: %s\" % str(options))\n",
    "\n",
    "        if ((self.model==None )| (self.cv==None)):\n",
    "            raise TypeError(\"Incomplete inputs\")\n",
    "            \n",
    "            \n",
    "    def fit(self,X,y=None):\n",
    "        self.X = X\n",
    "        return self\n",
    "\n",
    "\n",
    "    def _get_score(self,param):\n",
    "\n",
    "        errors = []\n",
    "        for indx,fold in enumerate(self.cv.split(self.X)):\n",
    "\n",
    "            X_train, X_test, y_train, y_test = fold    \n",
    "            self.model.set_params(**param).fit(X_train, np.log1p(y_train))\n",
    "            prediction = np.expm1(self.model.predict(X_test))\n",
    "            error = self.scoring(y_test, prediction)\n",
    "            errors.append(error)\n",
    "\n",
    "            if self.verbosity:\n",
    "                print(\"Fold: {}, Error: {:.4f}\".format(indx,error))\n",
    "\n",
    "        if self.verbosity:\n",
    "                print('Total Error {:.4f}'.format(np.mean(errors)))\n",
    "                \n",
    "        \n",
    "        return errors\n",
    "\n",
    "    def score(self):\n",
    "\n",
    "        errors=[]\n",
    "        get_param = []\n",
    "        for param in self.param_grid:\n",
    "            \n",
    "            if self.verbosity:\n",
    "                print(param)\n",
    "                \n",
    "            errors.append(np.mean(self._get_score(param)))\n",
    "            get_param.append(param)\n",
    "\n",
    "        self.sorted_errors,self.sorted_params = (list(t) for t in zip(*sorted(zip(errors,get_param))))\n",
    "        \n",
    "        return self.sorted_errors,self.sorted_params\n",
    "    \n",
    "    \n",
    "    def best_estimator(self,verbosity=False):\n",
    "\n",
    "        if verbosity:\n",
    "            print('error: {:.4f} \\n'.format(self.sorted_errors[0]))\n",
    "            print('Best params:')\n",
    "            print(self.sorted_params[0])\n",
    "\n",
    "        return self.sorted_params[0]"
   ]
  },
  {
   "cell_type": "code",
   "execution_count": null,
   "id": "0ec3ef9d",
   "metadata": {},
   "outputs": [],
   "source": []
  },
  {
   "cell_type": "markdown",
   "id": "b25da83d",
   "metadata": {},
   "source": [
    "# State VALUE Distribution"
   ]
  },
  {
   "cell_type": "code",
   "execution_count": 16,
   "id": "87c760cd",
   "metadata": {},
   "outputs": [
    {
     "data": {
      "image/png": "[encoded data removed]",
      "text/plain": [
       "<Figure size 720x360 with 1 Axes>"
      ]
     },
     "metadata": {
      "needs_background": "light"
     },
     "output_type": "display_data"
    }
   ],
   "source": [
    "df_data_2_x_1_1['VALUE'].hist(bins=20, figsize=(10,5))\n",
    "plt.xlabel('VALUE ranges',fontsize=14)\n",
    "plt.ylabel('Count Number of VALUE range',fontsize=14)\n",
    "plt.title('VALUE',fontsize=20)\n",
    "plt.show()"
   ]
  },
  {
   "cell_type": "markdown",
   "id": "d6fa2192",
   "metadata": {},
   "source": [
    "# Data Prep"
   ]
  },
  {
   "cell_type": "code",
   "execution_count": 17,
   "id": "2bd1f117",
   "metadata": {},
   "outputs": [
    {
     "data": {
      "text/html": [
       "<div>\n",
       "<style scoped>\n",
       "    .dataframe tbody tr th:only-of-type {\n",
       "        vertical-align: middle;\n",
       "    }\n",
       "\n",
       "    .dataframe tbody tr th {\n",
       "        vertical-align: top;\n",
       "    }\n",
       "\n",
       "    .dataframe thead th {\n",
       "        text-align: right;\n",
       "    }\n",
       "</style>\n",
       "<table border=\"1\" class=\"dataframe\">\n",
       "  <thead>\n",
       "    <tr style=\"text-align: right;\">\n",
       "      <th></th>\n",
       "      <th>USASTATE</th>\n",
       "      <th>VALUE</th>\n",
       "      <th>impact</th>\n",
       "      <th>month_seq</th>\n",
       "      <th>1_prev_months_VALUE</th>\n",
       "      <th>1_prev_months_impact</th>\n",
       "      <th>1_prev_months_diff__1_prev_months_VALUE</th>\n",
       "      <th>1_prev_months_diff__1_prev_months_impact</th>\n",
       "    </tr>\n",
       "  </thead>\n",
       "  <tbody>\n",
       "    <tr>\n",
       "      <th>0</th>\n",
       "      <td>2</td>\n",
       "      <td>0.006982</td>\n",
       "      <td>0.000049</td>\n",
       "      <td>3</td>\n",
       "      <td>0.007090</td>\n",
       "      <td>0.001066</td>\n",
       "      <td>0.000062</td>\n",
       "      <td>0.000630</td>\n",
       "    </tr>\n",
       "    <tr>\n",
       "      <th>1</th>\n",
       "      <td>1</td>\n",
       "      <td>0.028797</td>\n",
       "      <td>0.004502</td>\n",
       "      <td>3</td>\n",
       "      <td>0.029417</td>\n",
       "      <td>0.000509</td>\n",
       "      <td>-0.000306</td>\n",
       "      <td>-0.004127</td>\n",
       "    </tr>\n",
       "    <tr>\n",
       "      <th>2</th>\n",
       "      <td>5</td>\n",
       "      <td>0.012663</td>\n",
       "      <td>0.013780</td>\n",
       "      <td>3</td>\n",
       "      <td>0.013561</td>\n",
       "      <td>0.013352</td>\n",
       "      <td>-0.005679</td>\n",
       "      <td>0.009438</td>\n",
       "    </tr>\n",
       "    <tr>\n",
       "      <th>3</th>\n",
       "      <td>4</td>\n",
       "      <td>0.017482</td>\n",
       "      <td>0.002070</td>\n",
       "      <td>3</td>\n",
       "      <td>0.013500</td>\n",
       "      <td>0.001129</td>\n",
       "      <td>-0.000881</td>\n",
       "      <td>0.000568</td>\n",
       "    </tr>\n",
       "    <tr>\n",
       "      <th>4</th>\n",
       "      <td>6</td>\n",
       "      <td>0.173340</td>\n",
       "      <td>0.034575</td>\n",
       "      <td>3</td>\n",
       "      <td>0.252416</td>\n",
       "      <td>0.161551</td>\n",
       "      <td>0.083098</td>\n",
       "      <td>0.150125</td>\n",
       "    </tr>\n",
       "  </tbody>\n",
       "</table>\n",
       "</div>"
      ],
      "text/plain": [
       "   USASTATE     VALUE    impact  month_seq  1_prev_months_VALUE  \\\n",
       "0         2  0.006982  0.000049          3             0.007090   \n",
       "1         1  0.028797  0.004502          3             0.029417   \n",
       "2         5  0.012663  0.013780          3             0.013561   \n",
       "3         4  0.017482  0.002070          3             0.013500   \n",
       "4         6  0.173340  0.034575          3             0.252416   \n",
       "\n",
       "   1_prev_months_impact  1_prev_months_diff__1_prev_months_VALUE  \\\n",
       "0              0.001066                                 0.000062   \n",
       "1              0.000509                                -0.000306   \n",
       "2              0.013352                                -0.005679   \n",
       "3              0.001129                                -0.000881   \n",
       "4              0.161551                                 0.083098   \n",
       "\n",
       "   1_prev_months_diff__1_prev_months_impact  \n",
       "0                                  0.000630  \n",
       "1                                 -0.004127  \n",
       "2                                  0.009438  \n",
       "3                                  0.000568  \n",
       "4                                  0.150125  "
      ]
     },
     "execution_count": 17,
     "metadata": {},
     "output_type": "execute_result"
    }
   ],
   "source": [
    "steps = [('1_step_1',ToSupervised('VALUE','USASTATE',1)),\n",
    "         ('1_step_2',ToSupervised('impact','USASTATE',1)),\n",
    "         ('1_step_diff_1',ToSupervisedDiff('1_prev_months_VALUE','USASTATE',1,dropna=True)),\n",
    "         ('1_step_diff_2',ToSupervisedDiff('1_prev_months_impact','USASTATE',1,dropna=True))]\n",
    "super_1 = Pipeline(steps).fit_transform(df_data_2_x_1_1)\n",
    "super_1.head()"
   ]
  },
  {
   "cell_type": "markdown",
   "id": "a808df05",
   "metadata": {},
   "source": [
    "# First Model - One Step"
   ]
  },
  {
   "cell_type": "code",
   "execution_count": 18,
   "id": "3540c8c2",
   "metadata": {},
   "outputs": [],
   "source": [
    "kf = Kfold_time(target='VALUE',date_col = 'month_seq',date_init=50,date_final=75)\n",
    "model = SVR(kernel= 'rbf',C= 2.7,epsilon= .0348,shrinking=False,cache_size = 8000)"
   ]
  },
  {
   "cell_type": "code",
   "execution_count": 19,
   "id": "9857d0f4",
   "metadata": {},
   "outputs": [],
   "source": [
    "steps_1 = [('1_step_1',ToSupervised('VALUE','USASTATE',1)),\n",
    "           ('1_step_2',ToSupervised('impact','USASTATE',1)),\n",
    "         ('1_step_diff_1',ToSupervisedDiff('1_prev_months_VALUE','USASTATE',1,dropna=True)),\n",
    "           ('1_step_diff_2',ToSupervisedDiff('1_prev_months_impact','USASTATE',1,dropna=True)),\n",
    "         ('predic_1',TimeSeriesRegressor(model=model,cv=kf,scoring=rmsle))]\n",
    "super_1_p = Pipeline(steps_1).fit(df_data_2_x_1_1)"
   ]
  },
  {
   "cell_type": "code",
   "execution_count": 20,
   "id": "9b98d39f",
   "metadata": {},
   "outputs": [
    {
     "name": "stdout",
     "output_type": "stream",
     "text": [
      "Fold: 0, Error: 0.0660\n",
      "Fold: 1, Error: 0.0760\n",
      "Fold: 2, Error: 0.0751\n",
      "Fold: 3, Error: 0.0667\n",
      "Fold: 4, Error: 0.0701\n",
      "Fold: 5, Error: 0.0644\n",
      "Fold: 6, Error: 0.0623\n",
      "Fold: 7, Error: 0.0749\n",
      "Fold: 8, Error: 0.0672\n",
      "Fold: 9, Error: 0.0656\n",
      "Fold: 10, Error: 0.0860\n",
      "Fold: 11, Error: 0.0664\n",
      "Fold: 12, Error: 0.0721\n",
      "Fold: 13, Error: 0.0742\n",
      "Fold: 14, Error: 0.0787\n",
      "Fold: 15, Error: 0.0718\n",
      "Fold: 16, Error: 0.0701\n",
      "Fold: 17, Error: 0.0730\n",
      "Fold: 18, Error: 0.0769\n",
      "Fold: 19, Error: 0.0814\n",
      "Fold: 20, Error: 0.0741\n",
      "Fold: 21, Error: 0.0784\n",
      "Fold: 22, Error: 0.0826\n",
      "Fold: 23, Error: 0.0621\n",
      "Fold: 24, Error: 0.0823\n",
      "Total Error 0.0727\n"
     ]
    }
   ],
   "source": [
    "Model_1_Error = super_1_p.score(df_data_2_x_1_1)"
   ]
  },
  {
   "cell_type": "markdown",
   "id": "6c70dd60",
   "metadata": {},
   "source": [
    "# Second Model - Four Steps"
   ]
  },
  {
   "cell_type": "code",
   "execution_count": 21,
   "id": "7a3a77ec",
   "metadata": {},
   "outputs": [],
   "source": [
    "steps_3 = [('1_step_1',ToSupervised('VALUE','USASTATE',3)),\n",
    "           ('1_step_2',ToSupervised('impact','USASTATE',3)),\n",
    "         ('1_step_diff',ToSupervisedDiff('1_prev_months_VALUE','USASTATE',1)),\n",
    "         ('2_step_diff',ToSupervisedDiff('2_prev_months_VALUE','USASTATE',1)),\n",
    "         ('3_step_diff',ToSupervisedDiff('3_prev_months_VALUE','USASTATE',1,dropna=True)),\n",
    "           ('1_step_diff_2',ToSupervisedDiff('1_prev_months_impact','USASTATE',1)),\n",
    "         ('2_step_diff_2',ToSupervisedDiff('2_prev_months_impact','USASTATE',1)),\n",
    "         ('3_step_diff_3',ToSupervisedDiff('3_prev_months_impact','USASTATE',1,dropna=True)),\n",
    "         ('predic_3',TimeSeriesRegressor(model=model,cv=kf,scoring=rmsle))]\n",
    "super_3_p = Pipeline(steps_3).fit(df_data_2_x_1_1)"
   ]
  },
  {
   "cell_type": "code",
   "execution_count": 22,
   "id": "575fb0c2",
   "metadata": {},
   "outputs": [
    {
     "name": "stdout",
     "output_type": "stream",
     "text": [
      "Fold: 0, Error: 0.0420\n",
      "Fold: 1, Error: 0.0498\n",
      "Fold: 2, Error: 0.0493\n",
      "Fold: 3, Error: 0.0422\n",
      "Fold: 4, Error: 0.0429\n",
      "Fold: 5, Error: 0.0399\n",
      "Fold: 6, Error: 0.0392\n",
      "Fold: 7, Error: 0.0506\n",
      "Fold: 8, Error: 0.0458\n",
      "Fold: 9, Error: 0.0437\n",
      "Fold: 10, Error: 0.0615\n",
      "Fold: 11, Error: 0.0470\n",
      "Fold: 12, Error: 0.0482\n",
      "Fold: 13, Error: 0.0484\n",
      "Fold: 14, Error: 0.0534\n",
      "Fold: 15, Error: 0.0459\n",
      "Fold: 16, Error: 0.0435\n",
      "Fold: 17, Error: 0.0466\n",
      "Fold: 18, Error: 0.0522\n",
      "Fold: 19, Error: 0.0569\n",
      "Fold: 20, Error: 0.0499\n",
      "Fold: 21, Error: 0.0522\n",
      "Fold: 22, Error: 0.0564\n",
      "Fold: 23, Error: 0.0386\n",
      "Fold: 24, Error: 0.0523\n",
      "Total Error 0.0479\n"
     ]
    }
   ],
   "source": [
    "Model_3_Error = super_3_p.score(df_data_2_x_1_1)"
   ]
  },
  {
   "cell_type": "markdown",
   "id": "7c27508b",
   "metadata": {},
   "source": [
    "# Change Target Distribution"
   ]
  },
  {
   "cell_type": "code",
   "execution_count": 23,
   "id": "b969d55a",
   "metadata": {},
   "outputs": [],
   "source": [
    "steps_3_log = [('1_step',ToSupervised('VALUE','USASTATE',3)),\n",
    "         ('1_step_diff',ToSupervisedDiff('1_prev_months_VALUE','USASTATE',1)),\n",
    "         ('2_step_diff',ToSupervisedDiff('2_prev_months_VALUE','USASTATE',1)),\n",
    "         ('3_step_diff',ToSupervisedDiff('3_prev_months_VALUE','USASTATE',1,dropna=True)),\n",
    "         ('predic_3',TimeSeriesRegressorLog(model=model,cv=kf,scoring=rmsle))]\n",
    "super_3_p_log = Pipeline(steps_3_log).fit(df_data_2_x_1_1)"
   ]
  },
  {
   "cell_type": "code",
   "execution_count": 24,
   "id": "5c3f98d9",
   "metadata": {},
   "outputs": [
    {
     "name": "stdout",
     "output_type": "stream",
     "text": [
      "Fold: 0, Error: 0.0391\n",
      "Fold: 1, Error: 0.0477\n",
      "Fold: 2, Error: 0.0475\n",
      "Fold: 3, Error: 0.0398\n",
      "Fold: 4, Error: 0.0400\n",
      "Fold: 5, Error: 0.0376\n",
      "Fold: 6, Error: 0.0374\n",
      "Fold: 7, Error: 0.0487\n",
      "Fold: 8, Error: 0.0437\n",
      "Fold: 9, Error: 0.0416\n",
      "Fold: 10, Error: 0.0591\n",
      "Fold: 11, Error: 0.0453\n",
      "Fold: 12, Error: 0.0458\n",
      "Fold: 13, Error: 0.0466\n",
      "Fold: 14, Error: 0.0517\n",
      "Fold: 15, Error: 0.0429\n",
      "Fold: 16, Error: 0.0406\n",
      "Fold: 17, Error: 0.0427\n",
      "Fold: 18, Error: 0.0482\n",
      "Fold: 19, Error: 0.0523\n",
      "Fold: 20, Error: 0.0455\n",
      "Fold: 21, Error: 0.0478\n",
      "Fold: 22, Error: 0.0515\n",
      "Fold: 23, Error: 0.0359\n",
      "Fold: 24, Error: 0.0487\n",
      "Total Error 0.0451\n"
     ]
    }
   ],
   "source": [
    "Model_3_Log_Error = super_3_p_log.score(df_data_2_x_1_1)"
   ]
  },
  {
   "cell_type": "markdown",
   "id": "17bab58d",
   "metadata": {},
   "source": [
    "# Tuning Number of Steps"
   ]
  },
  {
   "cell_type": "code",
   "execution_count": 25,
   "id": "843c3b27",
   "metadata": {},
   "outputs": [
    {
     "name": "stderr",
     "output_type": "stream",
     "text": [
      "100%|██████████| 14/14 [01:35<00:00,  6.81s/it]\n"
     ]
    }
   ],
   "source": [
    "list_scores2 = stepsTune(df_data_2_x_1_1,\n",
    "                         TimeSeriesRegressorLog(model=model,scoring=rmsle,\n",
    "                                             cv=kf,verbosity=False),14)"
   ]
  },
  {
   "cell_type": "code",
   "execution_count": 26,
   "id": "47d0a860",
   "metadata": {},
   "outputs": [
    {
     "data": {
      "text/plain": [
       "Text(0.5, 1.0, 'Steps Tuning')"
      ]
     },
     "execution_count": 26,
     "metadata": {},
     "output_type": "execute_result"
    },
    {
     "data": {
      "image/png": "[encoded data removed]",
      "text/plain": [
       "<Figure size 720x432 with 1 Axes>"
      ]
     },
     "metadata": {
      "needs_background": "light"
     },
     "output_type": "display_data"
    }
   ],
   "source": [
    "plt.figure(figsize=(10,6))\n",
    "x = [i[0] for i in list_scores2]\n",
    "y = [i[1] for i in list_scores2]\n",
    "plt.plot(x,y,color='green', marker='o', linestyle='dashed',\n",
    "        linewidth=2, markersize=12)\n",
    "plt.xticks(np.arange(0, 15, step=1))\n",
    "plt.xlabel('Steps',fontsize=14)\n",
    "plt.ylabel('RMSLE',fontsize=14)\n",
    "plt.title('Steps Tuning',fontsize=18)"
   ]
  },
  {
   "cell_type": "markdown",
   "id": "d30d193b",
   "metadata": {},
   "source": [
    "# Prediction v Actual Value"
   ]
  },
  {
   "cell_type": "code",
   "execution_count": 27,
   "id": "7be353d3",
   "metadata": {},
   "outputs": [],
   "source": [
    "kf_112_114 = Kfold_time(target='VALUE',date_col = 'month_seq',date_init=111,date_final=114)\n",
    "\n",
    "steps_14 = getDataFramePipeline(14)\n",
    "super_14 = Pipeline(steps_14).fit_transform(df_data_2_x_1_1)"
   ]
  },
  {
   "cell_type": "code",
   "execution_count": null,
   "id": "1b969c1c",
   "metadata": {},
   "outputs": [],
   "source": []
  },
  {
   "cell_type": "code",
   "execution_count": 28,
   "id": "f4f8903f-6645-448f-bcf5-3e0c2d30ced5",
   "metadata": {},
   "outputs": [],
   "source": [
    "from xgboost import XGBRegressor\n",
    "model = XGBRegressor(random_state=42, n_jobs=-1, n_estimators=100, max_depth=4)\n",
    "T_112_114 = TimeSeriesRegressorLog(model=model ,scoring=rmsle,\n",
    "                                             cv=kf_112_114,verbosity=False)\n",
    "T_112_114.fit(super_14)\n",
    "prediction112_114 =T_112_114.predict(super_14)"
   ]
  },
  {
   "cell_type": "code",
   "execution_count": 29,
   "id": "b39fa6d1",
   "metadata": {},
   "outputs": [
    {
     "data": {
      "text/html": [
       "<div>\n",
       "<style scoped>\n",
       "    .dataframe tbody tr th:only-of-type {\n",
       "        vertical-align: middle;\n",
       "    }\n",
       "\n",
       "    .dataframe tbody tr th {\n",
       "        vertical-align: top;\n",
       "    }\n",
       "\n",
       "    .dataframe thead th {\n",
       "        text-align: right;\n",
       "    }\n",
       "</style>\n",
       "<table border=\"1\" class=\"dataframe\">\n",
       "  <thead>\n",
       "    <tr style=\"text-align: right;\">\n",
       "      <th></th>\n",
       "      <th>0_fold</th>\n",
       "      <th>1_fold</th>\n",
       "      <th>2_fold</th>\n",
       "    </tr>\n",
       "  </thead>\n",
       "  <tbody>\n",
       "    <tr>\n",
       "      <th>0</th>\n",
       "      <td>0.006765</td>\n",
       "      <td>0.009611</td>\n",
       "      <td>0.009787</td>\n",
       "    </tr>\n",
       "    <tr>\n",
       "      <th>1</th>\n",
       "      <td>0.050924</td>\n",
       "      <td>0.064853</td>\n",
       "      <td>0.055682</td>\n",
       "    </tr>\n",
       "    <tr>\n",
       "      <th>2</th>\n",
       "      <td>0.017100</td>\n",
       "      <td>0.017295</td>\n",
       "      <td>0.018077</td>\n",
       "    </tr>\n",
       "    <tr>\n",
       "      <th>3</th>\n",
       "      <td>0.023818</td>\n",
       "      <td>0.027811</td>\n",
       "      <td>0.029056</td>\n",
       "    </tr>\n",
       "    <tr>\n",
       "      <th>4</th>\n",
       "      <td>0.242713</td>\n",
       "      <td>0.237634</td>\n",
       "      <td>0.215607</td>\n",
       "    </tr>\n",
       "  </tbody>\n",
       "</table>\n",
       "</div>"
      ],
      "text/plain": [
       "     0_fold    1_fold    2_fold\n",
       "0  0.006765  0.009611  0.009787\n",
       "1  0.050924  0.064853  0.055682\n",
       "2  0.017100  0.017295  0.018077\n",
       "3  0.023818  0.027811  0.029056\n",
       "4  0.242713  0.237634  0.215607"
      ]
     },
     "execution_count": 29,
     "metadata": {},
     "output_type": "execute_result"
    }
   ],
   "source": [
    "prediction112_114.head()"
   ]
  },
  {
   "cell_type": "code",
   "execution_count": 30,
   "id": "1c95dbd0",
   "metadata": {},
   "outputs": [
    {
     "data": {
      "image/png": "[encoded data removed]",
      "text/plain": [
       "<Figure size 576x576 with 1 Axes>"
      ]
     },
     "metadata": {
      "needs_background": "light"
     },
     "output_type": "display_data"
    }
   ],
   "source": [
    "plt.figure(figsize=(8,8))\n",
    "plt.scatter(prediction112_114['0_fold'],df_data_2_x_1_1[df_data_2_x_1_1['month_seq']==112]['VALUE'])\n",
    "plt.xlabel('VALUE',fontsize=14)\n",
    "plt.ylabel('Prediction',fontsize=14)\n",
    "\n",
    "plt.title('Prediction vs VALUE for Month 112',fontsize=18)\n",
    "plt.show()"
   ]
  },
  {
   "cell_type": "code",
   "execution_count": 31,
   "id": "4c2cbab9",
   "metadata": {},
   "outputs": [
    {
     "data": {
      "text/plain": [
       "0.0058859981678747505"
      ]
     },
     "execution_count": 31,
     "metadata": {},
     "output_type": "execute_result"
    }
   ],
   "source": [
    "x = 0\n",
    "sum_diff = 0\n",
    "for i in list(prediction112_114['0_fold']):\n",
    "    sum_diff += abs(i-list(df_data_2_x_1_1[df_data_2_x_1_1['month_seq']==112]['VALUE'])[x])\n",
    "    x+=1\n",
    "mae = sum_diff/len(prediction112_114['0_fold'])\n",
    "mae"
   ]
  },
  {
   "cell_type": "code",
   "execution_count": 32,
   "id": "6f89e3cf",
   "metadata": {},
   "outputs": [
    {
     "data": {
      "text/plain": [
       "0.010380119658235269"
      ]
     },
     "execution_count": 32,
     "metadata": {},
     "output_type": "execute_result"
    }
   ],
   "source": [
    "x = 0\n",
    "sum_diff_sq = 0\n",
    "for i in list(prediction112_114['0_fold']):\n",
    "    sum_diff_sq += (i-list(df_data_2_x_1_1[df_data_2_x_1_1['month_seq']==112]['VALUE'])[x])**2\n",
    "    x+=1\n",
    "rmse = (sum_diff_sq/len(prediction112_114['0_fold']))**.5\n",
    "rmse"
   ]
  },
  {
   "cell_type": "code",
   "execution_count": 33,
   "id": "eaa951fb",
   "metadata": {},
   "outputs": [
    {
     "data": {
      "image/png": "[encoded data removed]",
      "text/plain": [
       "<Figure size 576x576 with 1 Axes>"
      ]
     },
     "metadata": {
      "needs_background": "light"
     },
     "output_type": "display_data"
    }
   ],
   "source": [
    "plt.figure(figsize=(8,8))\n",
    "plt.scatter(prediction112_114['1_fold'],df_data_2_x_1_1[df_data_2_x_1_1['month_seq']==113]['VALUE'])\n",
    "plt.xlabel('VALUE',fontsize=14)\n",
    "plt.ylabel('Prediction',fontsize=14)\n",
    "\n",
    "plt.title('Prediction vs VALUE for Months 113',fontsize=18)\n",
    "plt.show()"
   ]
  },
  {
   "cell_type": "code",
   "execution_count": 34,
   "id": "32cd61d3",
   "metadata": {},
   "outputs": [
    {
     "data": {
      "text/plain": [
       "0.011599398283217165"
      ]
     },
     "execution_count": 34,
     "metadata": {},
     "output_type": "execute_result"
    }
   ],
   "source": [
    "x = 0\n",
    "sum_diff = 0\n",
    "for i in list(prediction112_114['1_fold']):\n",
    "    sum_diff += abs(i-list(df_data_2_x_1_1[df_data_2_x_1_1['month_seq']==113]['VALUE'])[x])\n",
    "    x+=1\n",
    "mae = sum_diff/len(prediction112_114['1_fold'])\n",
    "mae"
   ]
  },
  {
   "cell_type": "code",
   "execution_count": 35,
   "id": "b41b8f1e",
   "metadata": {},
   "outputs": [
    {
     "data": {
      "text/plain": [
       "0.019119958161653877"
      ]
     },
     "execution_count": 35,
     "metadata": {},
     "output_type": "execute_result"
    }
   ],
   "source": [
    "x = 0\n",
    "sum_diff_sq = 0\n",
    "for i in list(prediction112_114['1_fold']):\n",
    "    sum_diff_sq += (i-list(df_data_2_x_1_1[df_data_2_x_1_1['month_seq']==113]['VALUE'])[x])**2\n",
    "    x+=1\n",
    "rmse = (sum_diff_sq/len(prediction112_114['1_fold']))**.5\n",
    "rmse"
   ]
  },
  {
   "cell_type": "code",
   "execution_count": 36,
   "id": "a01e146a",
   "metadata": {},
   "outputs": [
    {
     "data": {
      "image/png": "[encoded data removed]",
      "text/plain": [
       "<Figure size 576x576 with 1 Axes>"
      ]
     },
     "metadata": {
      "needs_background": "light"
     },
     "output_type": "display_data"
    }
   ],
   "source": [
    "plt.figure(figsize=(8,8))\n",
    "plt.scatter(prediction112_114['2_fold'],df_data_2_x_1_1[df_data_2_x_1_1['month_seq']==114]['VALUE'])\n",
    "plt.xlabel('VALUE',fontsize=14)\n",
    "plt.ylabel('Prediction',fontsize=14)\n",
    "\n",
    "plt.title('Prediction vs VALUE for Months 114',fontsize=18)\n",
    "plt.show()"
   ]
  },
  {
   "cell_type": "code",
   "execution_count": 37,
   "id": "b7175637",
   "metadata": {},
   "outputs": [
    {
     "data": {
      "text/plain": [
       "0.007814364986388662"
      ]
     },
     "execution_count": 37,
     "metadata": {},
     "output_type": "execute_result"
    }
   ],
   "source": [
    "x = 0\n",
    "sum_diff = 0\n",
    "for i in list(prediction112_114['2_fold']):\n",
    "    sum_diff += abs(i-list(df_data_2_x_1_1[df_data_2_x_1_1['month_seq']==114]['VALUE'])[x])\n",
    "    x+=1\n",
    "mae = sum_diff/len(prediction112_114['2_fold'])\n",
    "mae"
   ]
  },
  {
   "cell_type": "code",
   "execution_count": 38,
   "id": "412b2e9e",
   "metadata": {},
   "outputs": [
    {
     "data": {
      "text/plain": [
       "0.011072561916753945"
      ]
     },
     "execution_count": 38,
     "metadata": {},
     "output_type": "execute_result"
    }
   ],
   "source": [
    "x = 0\n",
    "sum_diff_sq = 0\n",
    "for i in list(prediction112_114['2_fold']):\n",
    "    sum_diff_sq += (i-list(df_data_2_x_1_1[df_data_2_x_1_1['month_seq']==114]['VALUE'])[x])**2\n",
    "    x+=1\n",
    "rmse = (sum_diff_sq/len(prediction112_114['2_fold']))**.5\n",
    "rmse"
   ]
  },
  {
   "cell_type": "code",
   "execution_count": null,
   "id": "ec5a7910",
   "metadata": {},
   "outputs": [],
   "source": []
  },
  {
   "cell_type": "code",
   "execution_count": null,
   "id": "46383869",
   "metadata": {},
   "outputs": [],
   "source": []
  }
 ],
 "metadata": {
  "kernelspec": {
   "display_name": "Python 3 (ipykernel)",
   "language": "python",
   "name": "python3"
  },
  "language_info": {
   "codemirror_mode": {
    "name": "ipython",
    "version": 3
   },
   "file_extension": ".py",
   "mimetype": "text/x-python",
   "name": "python",
   "nbconvert_exporter": "python",
   "pygments_lexer": "ipython3",
   "version": "3.9.7"
  }
 },
 "nbformat": 4,
 "nbformat_minor": 5
}
