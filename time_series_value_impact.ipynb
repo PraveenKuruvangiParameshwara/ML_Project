{
 "cells": [
  {
   "cell_type": "code",
   "execution_count": 1,
   "id": "d30dbe9c",
   "metadata": {},
   "outputs": [],
   "source": [
    "# https://towardsdatascience.com/time-series-machine-learning-regression-framework-9ea33929009a\n",
    "# https://github.com/pourya-ir/Medium/blob/master/Time%20Series%20Machine%20Learning%20Regression%20Framework.ipynb\n",
    "\n",
    "# This notebook shows model including impact\n",
    "\n",
    "# Model with parameters: model = SVR(kernel= 'rbf',C= 2.4,epsilon= .0348,shrinking=False,cache_size = 8000)\n",
    "\n",
    "import pandas as pd\n",
    "import numpy as np\n",
    "import matplotlib.pyplot as plt\n",
    "%matplotlib inline\n",
    "\n",
    "from sklearn.pipeline import Pipeline\n",
    "from sklearn.metrics import mean_squared_log_error\n",
    "from sklearn.svm import SVR\n",
    "\n",
    "from sklearn import base\n",
    "\n",
    "import warnings\n",
    "warnings.filterwarnings('ignore')"
   ]
  },
  {
   "cell_type": "markdown",
   "id": "29cf94d9",
   "metadata": {},
   "source": [
    "# Data Prep"
   ]
  },
  {
   "cell_type": "code",
   "execution_count": 2,
   "id": "573b3616",
   "metadata": {},
   "outputs": [
    {
     "data": {
      "text/html": [
       "<div>\n",
       "<style scoped>\n",
       "    .dataframe tbody tr th:only-of-type {\n",
       "        vertical-align: middle;\n",
       "    }\n",
       "\n",
       "    .dataframe tbody tr th {\n",
       "        vertical-align: top;\n",
       "    }\n",
       "\n",
       "    .dataframe thead th {\n",
       "        text-align: right;\n",
       "    }\n",
       "</style>\n",
       "<table border=\"1\" class=\"dataframe\">\n",
       "  <thead>\n",
       "    <tr style=\"text-align: right;\">\n",
       "      <th></th>\n",
       "      <th>USASTATE</th>\n",
       "      <th>month_seq</th>\n",
       "      <th>impact</th>\n",
       "      <th>VALUE</th>\n",
       "    </tr>\n",
       "  </thead>\n",
       "  <tbody>\n",
       "    <tr>\n",
       "      <th>0</th>\n",
       "      <td>2</td>\n",
       "      <td>0</td>\n",
       "      <td>1.812694e-03</td>\n",
       "      <td>0.005562</td>\n",
       "    </tr>\n",
       "    <tr>\n",
       "      <th>1</th>\n",
       "      <td>1</td>\n",
       "      <td>0</td>\n",
       "      <td>4.840626e-05</td>\n",
       "      <td>0.024734</td>\n",
       "    </tr>\n",
       "    <tr>\n",
       "      <th>2</th>\n",
       "      <td>5</td>\n",
       "      <td>0</td>\n",
       "      <td>1.777380e-03</td>\n",
       "      <td>0.019671</td>\n",
       "    </tr>\n",
       "    <tr>\n",
       "      <th>3</th>\n",
       "      <td>4</td>\n",
       "      <td>0</td>\n",
       "      <td>9.852190e-04</td>\n",
       "      <td>0.015062</td>\n",
       "    </tr>\n",
       "    <tr>\n",
       "      <th>4</th>\n",
       "      <td>6</td>\n",
       "      <td>0</td>\n",
       "      <td>9.845423e-04</td>\n",
       "      <td>0.217410</td>\n",
       "    </tr>\n",
       "    <tr>\n",
       "      <th>...</th>\n",
       "      <td>...</td>\n",
       "      <td>...</td>\n",
       "      <td>...</td>\n",
       "      <td>...</td>\n",
       "    </tr>\n",
       "    <tr>\n",
       "      <th>5860</th>\n",
       "      <td>50</td>\n",
       "      <td>114</td>\n",
       "      <td>0.000000e+00</td>\n",
       "      <td>0.032248</td>\n",
       "    </tr>\n",
       "    <tr>\n",
       "      <th>5861</th>\n",
       "      <td>53</td>\n",
       "      <td>114</td>\n",
       "      <td>1.925276e-07</td>\n",
       "      <td>0.138618</td>\n",
       "    </tr>\n",
       "    <tr>\n",
       "      <th>5862</th>\n",
       "      <td>55</td>\n",
       "      <td>114</td>\n",
       "      <td>0.000000e+00</td>\n",
       "      <td>0.071326</td>\n",
       "    </tr>\n",
       "    <tr>\n",
       "      <th>5863</th>\n",
       "      <td>54</td>\n",
       "      <td>114</td>\n",
       "      <td>0.000000e+00</td>\n",
       "      <td>0.020216</td>\n",
       "    </tr>\n",
       "    <tr>\n",
       "      <th>5864</th>\n",
       "      <td>56</td>\n",
       "      <td>114</td>\n",
       "      <td>0.000000e+00</td>\n",
       "      <td>0.004706</td>\n",
       "    </tr>\n",
       "  </tbody>\n",
       "</table>\n",
       "<p>5865 rows × 4 columns</p>\n",
       "</div>"
      ],
      "text/plain": [
       "      USASTATE  month_seq        impact     VALUE\n",
       "0            2          0  1.812694e-03  0.005562\n",
       "1            1          0  4.840626e-05  0.024734\n",
       "2            5          0  1.777380e-03  0.019671\n",
       "3            4          0  9.852190e-04  0.015062\n",
       "4            6          0  9.845423e-04  0.217410\n",
       "...        ...        ...           ...       ...\n",
       "5860        50        114  0.000000e+00  0.032248\n",
       "5861        53        114  1.925276e-07  0.138618\n",
       "5862        55        114  0.000000e+00  0.071326\n",
       "5863        54        114  0.000000e+00  0.020216\n",
       "5864        56        114  0.000000e+00  0.004706\n",
       "\n",
       "[5865 rows x 4 columns]"
      ]
     },
     "execution_count": 2,
     "metadata": {},
     "output_type": "execute_result"
    }
   ],
   "source": [
    "df = pd.read_csv('041822_final_data.csv')\n",
    "\n",
    "# TRDTYPE: 1 - Export, 2 - Import\n",
    "# DISAGMOT: 1 - Truck, 2 - Air\n",
    "# COUNTRY: 1 - Canada, 2 - Mexico\n",
    "df_filtered = df[(df['TRDTYPE'] == 2) & (df['DISAGMOT'] == 1) & (df['COUNTRY'] == 1)].copy()\n",
    "\n",
    "\n",
    "df_filtered = df_filtered.drop(columns=['TRDTYPE','DISAGMOT','COUNTRY','MONTH','YEAR'])\n",
    "df_filtered = df_filtered.reset_index().drop(columns= 'index')\n",
    "df_filtered['VALUE'] = df_filtered['VALUE']/df_filtered['VALUE'].max()\n",
    "df_filtered['impact'] = df_filtered['impact']/df_filtered['impact'].max()\n",
    "df_filtered"
   ]
  },
  {
   "cell_type": "markdown",
   "id": "0f618a0f",
   "metadata": {},
   "source": [
    "# To Supervised"
   ]
  },
  {
   "cell_type": "code",
   "execution_count": 3,
   "id": "f36aef72",
   "metadata": {},
   "outputs": [],
   "source": [
    "class ToSupervised(base.BaseEstimator,base.TransformerMixin):\n",
    "    \n",
    "    def __init__(self,col,groupCol,numLags,dropna=False):\n",
    "        \"\"\" Add previous numLags months VALUE to training/test data\n",
    "        \"\"\"\n",
    "        \n",
    "        self.col = col\n",
    "        self.groupCol = groupCol\n",
    "        self.numLags = numLags\n",
    "        self.dropna = dropna\n",
    "        \n",
    "    def fit(self,X,y=None):\n",
    "        self.X = X\n",
    "        return self\n",
    "    \n",
    "    def transform(self,X):\n",
    "        tmp = self.X.copy()\n",
    "        for i in range(1,self.numLags+1):\n",
    "            tmp[str(i)+'_prev_months'+\"_\"+self.col] = tmp.groupby([self.groupCol])[self.col].shift(i) \n",
    "            \n",
    "        if self.dropna:\n",
    "            tmp = tmp.dropna()\n",
    "            tmp = tmp.reset_index(drop=True)\n",
    "            \n",
    "        return tmp"
   ]
  },
  {
   "cell_type": "code",
   "execution_count": 4,
   "id": "39998b4e",
   "metadata": {},
   "outputs": [],
   "source": [
    "class ToSupervisedDiff(base.BaseEstimator,base.TransformerMixin):\n",
    "    \n",
    "    def __init__(self,col,groupCol,numLags,dropna=False):\n",
    "        \"\"\" Add previous difference in numLags months VALUE and current month VALUE to training/test data\n",
    "        \"\"\"\n",
    "        \n",
    "        self.col = col\n",
    "        self.groupCol = groupCol\n",
    "        self.numLags = numLags\n",
    "        self.dropna = dropna\n",
    "        \n",
    "    def fit(self,X,y=None):\n",
    "        self.X = X\n",
    "        return self\n",
    "    \n",
    "    def transform(self,X):\n",
    "        tmp = self.X.copy()\n",
    "        for i in range(1,self.numLags+1):\n",
    "            tmp[str(i)+'_prev_months_diff_'+\"_\"+self.col] = tmp.groupby([self.groupCol])[self.col].diff(i) \n",
    "            \n",
    "        if self.dropna:\n",
    "            tmp = tmp.dropna()\n",
    "            tmp = tmp.reset_index(drop=True)\n",
    "            \n",
    "        return tmp"
   ]
  },
  {
   "cell_type": "markdown",
   "id": "0d4f1e30",
   "metadata": {},
   "source": [
    "# Time Series K-Fold"
   ]
  },
  {
   "cell_type": "code",
   "execution_count": 5,
   "id": "3959326e",
   "metadata": {},
   "outputs": [],
   "source": [
    "from itertools import chain\n",
    "class Kfold_time(object):\n",
    "    \n",
    "    def __init__(self,**options):\n",
    "        \"\"\" Implement k-folds cross-validation with training data using a rolling window sampling sequence\n",
    "            and testing using original sequence\n",
    "        \"\"\"\n",
    "        \n",
    "        self.target     = options.pop('target', None)\n",
    "        self.date_col   = options.pop('date_col', None)\n",
    "        self.date_init  = options.pop('date_init', None)\n",
    "        self.date_final = options.pop('date_final', None)\n",
    "\n",
    "        if options:\n",
    "            raise TypeError(\"Invalid parameters passed: %s\" % str(options))\n",
    "            \n",
    "        if ((self.target==None )| (self.date_col==None )| (self.date_init==None ) | (self.date_final==None )):\n",
    "            raise TypeError(\"Incomplete inputs\")\n",
    "    \n",
    "    def _train_test_split_time(self,X):\n",
    "        n_arrays = len(X)\n",
    "        if n_arrays == 0:\n",
    "            raise ValueError(\"At least one array required as input\")\n",
    "\n",
    "        for i in range(self.date_init,self.date_final):\n",
    "\n",
    "            train = X[X[self.date_col] < i]\n",
    "            val   = X[X[self.date_col] == i]\n",
    "\n",
    "            X_train, X_test = train.drop([self.target], axis=1), val.drop([self.target], axis=1)\n",
    "            y_train, y_test = train[self.target].values, val[self.target].values\n",
    "\n",
    "            yield X_train, X_test, y_train, y_test\n",
    "\n",
    "    \n",
    "    def split(self,X):\n",
    "        cv_t = self._train_test_split_time(X)\n",
    "        return chain(cv_t)"
   ]
  },
  {
   "cell_type": "markdown",
   "id": "7d6be2f4",
   "metadata": {},
   "source": [
    "# Metric: RMSLE"
   ]
  },
  {
   "cell_type": "code",
   "execution_count": 6,
   "id": "d3ebdc92",
   "metadata": {},
   "outputs": [],
   "source": [
    "def rmsle(ytrue, ypred):\n",
    "    \"\"\" Returns RMSLE of actual vs predicted VALUE\n",
    "    \"\"\"\n",
    "    return np.sqrt(mean_squared_log_error(ytrue, ypred))"
   ]
  },
  {
   "cell_type": "markdown",
   "id": "cb2abc61",
   "metadata": {},
   "source": [
    "# Baseline Estimator"
   ]
  },
  {
   "cell_type": "code",
   "execution_count": 7,
   "id": "d44e2033",
   "metadata": {},
   "outputs": [],
   "source": [
    "class BaseEstimator(base.BaseEstimator, base.RegressorMixin):\n",
    "    def __init__(self, predCol):\n",
    "        \"\"\"\n",
    "            As a base model we assume the VALUE last month and this month are the same\n",
    "            Input: \n",
    "                    predCol: l-month ago VALUE\n",
    "        \"\"\"\n",
    "        self.predCol = predCol\n",
    "\n",
    "        \n",
    "    def fit(self, X, y):\n",
    "        return self\n",
    "\n",
    "\n",
    "    def predict(self, X):\n",
    "        prediction = X[self.predCol].values\n",
    "        return prediction\n",
    "\n",
    "    def score(self, X, y,scoring):\n",
    "        \n",
    "        prediction = self.predict(X)\n",
    "    \n",
    "        error =scoring(y, prediction)# np.sqrt(mean_squared_log_error(y, prediction))\n",
    "        return error "
   ]
  },
  {
   "cell_type": "markdown",
   "id": "ef5d0366",
   "metadata": {},
   "source": [
    "# Time Series Regression"
   ]
  },
  {
   "cell_type": "code",
   "execution_count": 8,
   "id": "55c633ba",
   "metadata": {},
   "outputs": [],
   "source": [
    "class TimeSeriesRegressor(base.BaseEstimator, base.RegressorMixin):\n",
    "    \n",
    "    def __init__(self,model,cv,scoring,verbosity=True):\n",
    "        \"\"\" Time-series regression of over k-folds, no scaling\n",
    "        \"\"\"\n",
    "        self.model = model\n",
    "        self.cv = cv\n",
    "        self.verbosity = verbosity\n",
    "        self.scoring = scoring \n",
    "        \n",
    "            \n",
    "    def fit(self,X,y=None):\n",
    "        return self\n",
    "        \n",
    "    \n",
    "    def predict(self,X=None):\n",
    "        \n",
    "        pred = {}\n",
    "        for indx,fold in enumerate(self.cv.split(X)):\n",
    "\n",
    "            X_train, X_test, y_train, y_test = fold    \n",
    "            self.model.fit(X_train, y_train)\n",
    "            pred[str(indx)+'_fold'] = self.model.predict(X_test)\n",
    "            \n",
    "        prediction = pd.DataFrame(pred)\n",
    "    \n",
    "        return prediction\n",
    "    \n",
    "\n",
    "    def score(self,X,y=None):\n",
    "\n",
    "\n",
    "        errors = []\n",
    "        for indx,fold in enumerate(self.cv.split(X)):\n",
    "\n",
    "            X_train, X_test, y_train, y_test = fold    \n",
    "            self.model.fit(X_train, y_train)\n",
    "            prediction = self.model.predict(X_test)\n",
    "            error = self.scoring(y_test, prediction)\n",
    "            errors.append(error)\n",
    "\n",
    "            if self.verbosity:\n",
    "                print(\"Fold: {}, Error: {:.4f}\".format(indx,error))\n",
    "\n",
    "        if self.verbosity:\n",
    "            print('Total Error {:.4f}'.format(np.mean(errors)))\n",
    "\n",
    "        return errors"
   ]
  },
  {
   "cell_type": "code",
   "execution_count": 9,
   "id": "2b1d610b",
   "metadata": {},
   "outputs": [],
   "source": [
    "class TimeSeriesRegressorLog(base.BaseEstimator, base.RegressorMixin):\n",
    "    \n",
    "    def __init__(self,model,cv,scoring,verbosity=True):\n",
    "        \"\"\" Time-series regression of over k-folds, log scaling of target in training\n",
    "        \"\"\"\n",
    "        self.model = model\n",
    "        self.cv = cv\n",
    "        self.verbosity = verbosity\n",
    "        self.scoring = scoring\n",
    "        \n",
    "            \n",
    "    def fit(self,X,y=None):\n",
    "        return self\n",
    "        \n",
    "    \n",
    "    def predict(self,X=None):\n",
    "        \n",
    "        pred = {}\n",
    "        for indx,fold in enumerate(self.cv.split(X)):\n",
    "\n",
    "            X_train, X_test, y_train, y_test = fold    \n",
    "            self.model.fit(X_train, y_train)\n",
    "            pred[str(indx)+'_fold'] = self.model.predict(X_test)\n",
    "            \n",
    "        prediction = pd.DataFrame(pred)\n",
    "    \n",
    "        return prediction\n",
    "\n",
    "    \n",
    "    def score(self,X,y=None):#**options):\n",
    "\n",
    "\n",
    "        errors = []\n",
    "        for indx,fold in enumerate(self.cv.split(X)):\n",
    "\n",
    "            X_train, X_test, y_train, y_test = fold    \n",
    "            self.model.fit(X_train, np.log1p(y_train))\n",
    "            prediction = np.expm1(self.model.predict(X_test))\n",
    "            error = self.scoring(y_test, prediction)\n",
    "            errors.append(error)\n",
    "\n",
    "            if self.verbosity:\n",
    "                print(\"Fold: {}, Error: {:.4f}\".format(indx,error))\n",
    "\n",
    "        if self.verbosity:\n",
    "                print('Total Error {:.4f}'.format(np.mean(errors)))\n",
    "\n",
    "        return errors"
   ]
  },
  {
   "cell_type": "markdown",
   "id": "07fda737",
   "metadata": {},
   "source": [
    "# Steps Tuning"
   ]
  },
  {
   "cell_type": "code",
   "execution_count": 10,
   "id": "298f9dcc",
   "metadata": {},
   "outputs": [],
   "source": [
    "def getDataFramePipeline(i):\n",
    "    \"\"\" Helper function to create step tuning pipleine\n",
    "    \"\"\"\n",
    "    steps = [(str(i)+'_step_1',ToSupervised('VALUE','USASTATE',i)),\n",
    "             (str(i)+'_step_2',ToSupervised('impact','USASTATE',i))]\n",
    "    for j in range(1,i+1):\n",
    "        if i==j:\n",
    "\n",
    "            pp1 = (str(j)+'_step_diff_1',\n",
    "                  ToSupervisedDiff(str(i)+'_prev_months_VALUE','USASTATE',1,dropna=True))\n",
    "            steps.append(pp1)\n",
    "            pp2 = (str(j)+'_step_diff_2',\n",
    "                  ToSupervisedDiff(str(i)+'_prev_months_impact','USASTATE',1,dropna=True))\n",
    "            steps.append(pp2)\n",
    "        else:\n",
    "\n",
    "            pp1 = (str(j)+'_step_diff_1',\n",
    "                  ToSupervisedDiff(str(i)+'_prev_months_VALUE','USASTATE',1))\n",
    "            steps.append(pp1)\n",
    "            pp2 = (str(j)+'_step_diff_2',\n",
    "                  ToSupervisedDiff(str(i)+'_prev_months_impact','USASTATE',1))\n",
    "            steps.append(pp2)\n",
    "            \n",
    "    return steps"
   ]
  },
  {
   "cell_type": "code",
   "execution_count": 11,
   "id": "de0e5fab",
   "metadata": {},
   "outputs": [],
   "source": [
    "from tqdm import tqdm\n",
    "def stepsTune(X,model,num_steps,init=1):\n",
    "    \"\"\" Gather scores when varing number of lags in time series\n",
    "    \"\"\"\n",
    "    scores = []\n",
    "    for i in tqdm(range(init,num_steps+1)):\n",
    "        steps = []\n",
    "        steps.extend(getDataFramePipeline(i))\n",
    "        steps.append(('predic_1',model))\n",
    "        super_ = Pipeline(steps).fit(X)\n",
    "        score_ = np.mean(super_.score(X))\n",
    "        scores.append((i,score_))\n",
    "        \n",
    "    return scores"
   ]
  },
  {
   "cell_type": "markdown",
   "id": "b25da83d",
   "metadata": {},
   "source": [
    "# State impact Distribution"
   ]
  },
  {
   "cell_type": "code",
   "execution_count": 14,
   "id": "87c760cd",
   "metadata": {},
   "outputs": [
    {
     "data": {
      "image/png": "[encoded data removed]",
      "text/plain": [
       "<Figure size 720x360 with 1 Axes>"
      ]
     },
     "metadata": {
      "needs_background": "light"
     },
     "output_type": "display_data"
    }
   ],
   "source": [
    "df_filtered['impact'].hist(bins=20, figsize=(10,5))\n",
    "plt.xlabel('impact ranges',fontsize=14)\n",
    "plt.ylabel('Count Number of impact range',fontsize=14)\n",
    "plt.title('impact',fontsize=20)\n",
    "plt.show()"
   ]
  },
  {
   "cell_type": "markdown",
   "id": "d6fa2192",
   "metadata": {},
   "source": [
    "# Data Prep"
   ]
  },
  {
   "cell_type": "code",
   "execution_count": 15,
   "id": "2bd1f117",
   "metadata": {},
   "outputs": [
    {
     "data": {
      "text/html": [
       "<div>\n",
       "<style scoped>\n",
       "    .dataframe tbody tr th:only-of-type {\n",
       "        vertical-align: middle;\n",
       "    }\n",
       "\n",
       "    .dataframe tbody tr th {\n",
       "        vertical-align: top;\n",
       "    }\n",
       "\n",
       "    .dataframe thead th {\n",
       "        text-align: right;\n",
       "    }\n",
       "</style>\n",
       "<table border=\"1\" class=\"dataframe\">\n",
       "  <thead>\n",
       "    <tr style=\"text-align: right;\">\n",
       "      <th></th>\n",
       "      <th>USASTATE</th>\n",
       "      <th>month_seq</th>\n",
       "      <th>impact</th>\n",
       "      <th>VALUE</th>\n",
       "      <th>1_prev_months_VALUE</th>\n",
       "      <th>1_prev_months_impact</th>\n",
       "      <th>1_prev_months_diff__1_prev_months_VALUE</th>\n",
       "      <th>1_prev_months_diff__1_prev_months_impact</th>\n",
       "    </tr>\n",
       "  </thead>\n",
       "  <tbody>\n",
       "    <tr>\n",
       "      <th>0</th>\n",
       "      <td>2</td>\n",
       "      <td>3</td>\n",
       "      <td>0.000003</td>\n",
       "      <td>0.006982</td>\n",
       "      <td>0.007090</td>\n",
       "      <td>0.000621</td>\n",
       "      <td>0.000062</td>\n",
       "      <td>0.000524</td>\n",
       "    </tr>\n",
       "    <tr>\n",
       "      <th>1</th>\n",
       "      <td>1</td>\n",
       "      <td>3</td>\n",
       "      <td>0.000284</td>\n",
       "      <td>0.028797</td>\n",
       "      <td>0.029417</td>\n",
       "      <td>0.000025</td>\n",
       "      <td>-0.000306</td>\n",
       "      <td>-0.000275</td>\n",
       "    </tr>\n",
       "    <tr>\n",
       "      <th>2</th>\n",
       "      <td>5</td>\n",
       "      <td>3</td>\n",
       "      <td>0.000955</td>\n",
       "      <td>0.012663</td>\n",
       "      <td>0.013561</td>\n",
       "      <td>0.000911</td>\n",
       "      <td>-0.005679</td>\n",
       "      <td>0.000643</td>\n",
       "    </tr>\n",
       "    <tr>\n",
       "      <th>3</th>\n",
       "      <td>4</td>\n",
       "      <td>3</td>\n",
       "      <td>0.000334</td>\n",
       "      <td>0.017482</td>\n",
       "      <td>0.013500</td>\n",
       "      <td>0.000083</td>\n",
       "      <td>-0.000881</td>\n",
       "      <td>0.000044</td>\n",
       "    </tr>\n",
       "    <tr>\n",
       "      <th>4</th>\n",
       "      <td>6</td>\n",
       "      <td>3</td>\n",
       "      <td>0.003863</td>\n",
       "      <td>0.173340</td>\n",
       "      <td>0.252416</td>\n",
       "      <td>0.100708</td>\n",
       "      <td>0.083098</td>\n",
       "      <td>0.098844</td>\n",
       "    </tr>\n",
       "  </tbody>\n",
       "</table>\n",
       "</div>"
      ],
      "text/plain": [
       "   USASTATE  month_seq    impact     VALUE  1_prev_months_VALUE  \\\n",
       "0         2          3  0.000003  0.006982             0.007090   \n",
       "1         1          3  0.000284  0.028797             0.029417   \n",
       "2         5          3  0.000955  0.012663             0.013561   \n",
       "3         4          3  0.000334  0.017482             0.013500   \n",
       "4         6          3  0.003863  0.173340             0.252416   \n",
       "\n",
       "   1_prev_months_impact  1_prev_months_diff__1_prev_months_VALUE  \\\n",
       "0              0.000621                                 0.000062   \n",
       "1              0.000025                                -0.000306   \n",
       "2              0.000911                                -0.005679   \n",
       "3              0.000083                                -0.000881   \n",
       "4              0.100708                                 0.083098   \n",
       "\n",
       "   1_prev_months_diff__1_prev_months_impact  \n",
       "0                                  0.000524  \n",
       "1                                 -0.000275  \n",
       "2                                  0.000643  \n",
       "3                                  0.000044  \n",
       "4                                  0.098844  "
      ]
     },
     "execution_count": 15,
     "metadata": {},
     "output_type": "execute_result"
    }
   ],
   "source": [
    "steps = [('1_step_1',ToSupervised('VALUE','USASTATE',1)),\n",
    "         ('1_step_2',ToSupervised('impact','USASTATE',1)),\n",
    "         ('1_step_diff_1',ToSupervisedDiff('1_prev_months_VALUE','USASTATE',1,dropna=True)),\n",
    "         ('1_step_diff_2',ToSupervisedDiff('1_prev_months_impact','USASTATE',1,dropna=True))]\n",
    "super_1 = Pipeline(steps).fit_transform(df_filtered)\n",
    "super_1.head()"
   ]
  },
  {
   "cell_type": "markdown",
   "id": "a808df05",
   "metadata": {},
   "source": [
    "# First Model - One Step"
   ]
  },
  {
   "cell_type": "code",
   "execution_count": 16,
   "id": "3540c8c2",
   "metadata": {},
   "outputs": [],
   "source": [
    "kf_train = Kfold_time(target='VALUE',date_col = 'month_seq',date_init=50,date_final=75)\n",
    "model = SVR(kernel= 'rbf',C= 2.4,epsilon= .0348,shrinking=False,cache_size = 8000)"
   ]
  },
  {
   "cell_type": "code",
   "execution_count": 17,
   "id": "9857d0f4",
   "metadata": {},
   "outputs": [],
   "source": [
    "steps_1 = [('1_step_1',ToSupervised('VALUE','USASTATE',1)),\n",
    "           ('1_step_2',ToSupervised('impact','USASTATE',1)),\n",
    "         ('1_step_diff_1',ToSupervisedDiff('1_prev_months_VALUE','USASTATE',1,dropna=True)),\n",
    "           ('1_step_diff_2',ToSupervisedDiff('1_prev_months_impact','USASTATE',1,dropna=True)),\n",
    "         ('predic_1',TimeSeriesRegressor(model=model,cv=kf_train,scoring=rmsle))]\n",
    "super_1_p = Pipeline(steps_1).fit(df_filtered)"
   ]
  },
  {
   "cell_type": "code",
   "execution_count": 18,
   "id": "9b98d39f",
   "metadata": {},
   "outputs": [
    {
     "name": "stdout",
     "output_type": "stream",
     "text": [
      "Fold: 0, Error: 0.0718\n",
      "Fold: 1, Error: 0.0808\n",
      "Fold: 2, Error: 0.0782\n",
      "Fold: 3, Error: 0.0694\n",
      "Fold: 4, Error: 0.0725\n",
      "Fold: 5, Error: 0.0669\n",
      "Fold: 6, Error: 0.0646\n",
      "Fold: 7, Error: 0.0771\n",
      "Fold: 8, Error: 0.0701\n",
      "Fold: 9, Error: 0.0687\n",
      "Fold: 10, Error: 0.0896\n",
      "Fold: 11, Error: 0.0713\n",
      "Fold: 12, Error: 0.0769\n",
      "Fold: 13, Error: 0.0788\n",
      "Fold: 14, Error: 0.0821\n",
      "Fold: 15, Error: 0.0745\n",
      "Fold: 16, Error: 0.0726\n",
      "Fold: 17, Error: 0.0755\n",
      "Fold: 18, Error: 0.0793\n",
      "Fold: 19, Error: 0.0840\n",
      "Fold: 20, Error: 0.0771\n",
      "Fold: 21, Error: 0.0822\n",
      "Fold: 22, Error: 0.0868\n",
      "Fold: 23, Error: 0.0658\n",
      "Fold: 24, Error: 0.0856\n",
      "Total Error 0.0761\n"
     ]
    }
   ],
   "source": [
    "Model_1_Error = super_1_p.score(df_filtered)"
   ]
  },
  {
   "cell_type": "markdown",
   "id": "6c70dd60",
   "metadata": {},
   "source": [
    "# Second Model - Four Steps"
   ]
  },
  {
   "cell_type": "code",
   "execution_count": 19,
   "id": "bdda7005",
   "metadata": {},
   "outputs": [],
   "source": [
    "kf_train = Kfold_time(target='VALUE',date_col = 'month_seq',date_init=50,date_final=75)\n",
    "model = SVR(kernel= 'rbf',C= 2.4,epsilon= .0348,shrinking=False,cache_size = 8000)"
   ]
  },
  {
   "cell_type": "code",
   "execution_count": 20,
   "id": "7a3a77ec",
   "metadata": {},
   "outputs": [],
   "source": [
    "steps_3 = [('1_step_1',ToSupervised('VALUE','USASTATE',3)),\n",
    "           ('1_step_2',ToSupervised('impact','USASTATE',3)),\n",
    "         ('1_step_diff',ToSupervisedDiff('1_prev_months_VALUE','USASTATE',1)),\n",
    "         ('2_step_diff',ToSupervisedDiff('2_prev_months_VALUE','USASTATE',1)),\n",
    "         ('3_step_diff',ToSupervisedDiff('3_prev_months_VALUE','USASTATE',1,dropna=True)),\n",
    "           ('1_step_diff_2',ToSupervisedDiff('1_prev_months_impact','USASTATE',1)),\n",
    "         ('2_step_diff_2',ToSupervisedDiff('2_prev_months_impact','USASTATE',1)),\n",
    "         ('3_step_diff_3',ToSupervisedDiff('3_prev_months_impact','USASTATE',1,dropna=True)),\n",
    "         ('predic_3',TimeSeriesRegressor(model=model,cv=kf_train,scoring=rmsle))]\n",
    "super_3_p = Pipeline(steps_3).fit(df_filtered)"
   ]
  },
  {
   "cell_type": "code",
   "execution_count": 21,
   "id": "575fb0c2",
   "metadata": {},
   "outputs": [
    {
     "name": "stdout",
     "output_type": "stream",
     "text": [
      "Fold: 0, Error: 0.0448\n",
      "Fold: 1, Error: 0.0534\n",
      "Fold: 2, Error: 0.0528\n",
      "Fold: 3, Error: 0.0448\n",
      "Fold: 4, Error: 0.0453\n",
      "Fold: 5, Error: 0.0418\n",
      "Fold: 6, Error: 0.0408\n",
      "Fold: 7, Error: 0.0522\n",
      "Fold: 8, Error: 0.0474\n",
      "Fold: 9, Error: 0.0451\n",
      "Fold: 10, Error: 0.0634\n",
      "Fold: 11, Error: 0.0494\n",
      "Fold: 12, Error: 0.0506\n",
      "Fold: 13, Error: 0.0514\n",
      "Fold: 14, Error: 0.0563\n",
      "Fold: 15, Error: 0.0482\n",
      "Fold: 16, Error: 0.0454\n",
      "Fold: 17, Error: 0.0479\n",
      "Fold: 18, Error: 0.0535\n",
      "Fold: 19, Error: 0.0583\n",
      "Fold: 20, Error: 0.0515\n",
      "Fold: 21, Error: 0.0543\n",
      "Fold: 22, Error: 0.0588\n",
      "Fold: 23, Error: 0.0410\n",
      "Fold: 24, Error: 0.0552\n",
      "Total Error 0.0502\n"
     ]
    }
   ],
   "source": [
    "Model_3_Error = super_3_p.score(df_filtered)"
   ]
  },
  {
   "cell_type": "markdown",
   "id": "7c27508b",
   "metadata": {},
   "source": [
    "# Change Target Distribution"
   ]
  },
  {
   "cell_type": "code",
   "execution_count": 22,
   "id": "30fcc728",
   "metadata": {},
   "outputs": [],
   "source": [
    "kf_train = Kfold_time(target='VALUE',date_col = 'month_seq',date_init=50,date_final=75)\n",
    "model = SVR(kernel= 'rbf',C= 2.4,epsilon= .0348,shrinking=False,cache_size = 8000)"
   ]
  },
  {
   "cell_type": "code",
   "execution_count": 23,
   "id": "b969d55a",
   "metadata": {},
   "outputs": [],
   "source": [
    "steps_3_log = [('1_step',ToSupervised('VALUE','USASTATE',3)),\n",
    "         ('1_step_diff',ToSupervisedDiff('1_prev_months_VALUE','USASTATE',1)),\n",
    "         ('2_step_diff',ToSupervisedDiff('2_prev_months_VALUE','USASTATE',1)),\n",
    "         ('3_step_diff',ToSupervisedDiff('3_prev_months_VALUE','USASTATE',1,dropna=True)),\n",
    "         ('predic_3',TimeSeriesRegressorLog(model=model,cv=kf_train,scoring=rmsle))]\n",
    "super_3_p_log = Pipeline(steps_3_log).fit(df_filtered)"
   ]
  },
  {
   "cell_type": "code",
   "execution_count": 24,
   "id": "5c3f98d9",
   "metadata": {},
   "outputs": [
    {
     "name": "stdout",
     "output_type": "stream",
     "text": [
      "Fold: 0, Error: 0.0417\n",
      "Fold: 1, Error: 0.0495\n",
      "Fold: 2, Error: 0.0490\n",
      "Fold: 3, Error: 0.0414\n",
      "Fold: 4, Error: 0.0414\n",
      "Fold: 5, Error: 0.0387\n",
      "Fold: 6, Error: 0.0385\n",
      "Fold: 7, Error: 0.0499\n",
      "Fold: 8, Error: 0.0450\n",
      "Fold: 9, Error: 0.0431\n",
      "Fold: 10, Error: 0.0610\n",
      "Fold: 11, Error: 0.0475\n",
      "Fold: 12, Error: 0.0480\n",
      "Fold: 13, Error: 0.0483\n",
      "Fold: 14, Error: 0.0532\n",
      "Fold: 15, Error: 0.0443\n",
      "Fold: 16, Error: 0.0418\n",
      "Fold: 17, Error: 0.0445\n",
      "Fold: 18, Error: 0.0499\n",
      "Fold: 19, Error: 0.0545\n",
      "Fold: 20, Error: 0.0474\n",
      "Fold: 21, Error: 0.0502\n",
      "Fold: 22, Error: 0.0539\n",
      "Fold: 23, Error: 0.0377\n",
      "Fold: 24, Error: 0.0509\n",
      "Total Error 0.0468\n"
     ]
    }
   ],
   "source": [
    "Model_3_Log_Error = super_3_p_log.score(df_filtered)"
   ]
  },
  {
   "cell_type": "markdown",
   "id": "17bab58d",
   "metadata": {},
   "source": [
    "# Tuning Number of Steps"
   ]
  },
  {
   "cell_type": "code",
   "execution_count": 25,
   "id": "116ed4ef",
   "metadata": {},
   "outputs": [],
   "source": [
    "kf_train = Kfold_time(target='VALUE',date_col = 'month_seq',date_init=50,date_final=75)\n",
    "model = SVR(kernel= 'rbf',C= 2.4,epsilon= .0348,shrinking=False,cache_size = 8000)"
   ]
  },
  {
   "cell_type": "code",
   "execution_count": 26,
   "id": "843c3b27",
   "metadata": {},
   "outputs": [
    {
     "name": "stderr",
     "output_type": "stream",
     "text": [
      "100%|██████████████████████████████████████████████████████████████████████████████████| 18/18 [06:36<00:00, 22.04s/it]\n"
     ]
    }
   ],
   "source": [
    "list_scores2 = stepsTune(df_filtered,\n",
    "                         TimeSeriesRegressorLog(model=model,scoring=rmsle,\n",
    "                                             cv=kf_train,verbosity=False),18)"
   ]
  },
  {
   "cell_type": "code",
   "execution_count": 27,
   "id": "47d0a860",
   "metadata": {
    "scrolled": false
   },
   "outputs": [
    {
     "data": {
      "text/plain": [
       "Text(0.5, 1.0, 'Steps Tuning')"
      ]
     },
     "execution_count": 27,
     "metadata": {},
     "output_type": "execute_result"
    },
    {
     "data": {
      "image/png": "[encoded data removed]",
      "text/plain": [
       "<Figure size 720x432 with 1 Axes>"
      ]
     },
     "metadata": {
      "needs_background": "light"
     },
     "output_type": "display_data"
    }
   ],
   "source": [
    "plt.figure(figsize=(10,6))\n",
    "x = [i[0] for i in list_scores2]\n",
    "y = [i[1] for i in list_scores2]\n",
    "plt.plot(x,y,color='green', marker='o', linestyle='dashed',\n",
    "        linewidth=2, markersize=12)\n",
    "plt.xticks(np.arange(1, 19, step=1))\n",
    "plt.xlabel('Steps',fontsize=14)\n",
    "plt.ylabel('RMSLE',fontsize=14)\n",
    "plt.title('Steps Tuning',fontsize=18)"
   ]
  },
  {
   "cell_type": "markdown",
   "id": "d30d193b",
   "metadata": {},
   "source": [
    "# Prediction v Actual Value"
   ]
  },
  {
   "cell_type": "code",
   "execution_count": 28,
   "id": "5d1c4ce7",
   "metadata": {},
   "outputs": [],
   "source": [
    "kf_test = Kfold_time(target='VALUE',date_col = 'month_seq',date_init=112,date_final=115)\n",
    "model = SVR(kernel= 'rbf',C= 2.4,epsilon= .0348,shrinking=False,cache_size = 8000)"
   ]
  },
  {
   "cell_type": "code",
   "execution_count": 29,
   "id": "7be353d3",
   "metadata": {},
   "outputs": [],
   "source": [
    "steps_14 = getDataFramePipeline(14)\n",
    "super_14 = Pipeline(steps_14).fit_transform(df_filtered)"
   ]
  },
  {
   "cell_type": "code",
   "execution_count": 30,
   "id": "dbc54de3",
   "metadata": {},
   "outputs": [],
   "source": [
    "T_test = TimeSeriesRegressorLog(model=model ,scoring=rmsle,\n",
    "                                             cv=kf_test,verbosity=False)\n",
    "T_test.fit(super_14)\n",
    "prediction = T_test.predict(super_14)"
   ]
  },
  {
   "cell_type": "code",
   "execution_count": 31,
   "id": "b39fa6d1",
   "metadata": {},
   "outputs": [
    {
     "data": {
      "text/html": [
       "<div>\n",
       "<style scoped>\n",
       "    .dataframe tbody tr th:only-of-type {\n",
       "        vertical-align: middle;\n",
       "    }\n",
       "\n",
       "    .dataframe tbody tr th {\n",
       "        vertical-align: top;\n",
       "    }\n",
       "\n",
       "    .dataframe thead th {\n",
       "        text-align: right;\n",
       "    }\n",
       "</style>\n",
       "<table border=\"1\" class=\"dataframe\">\n",
       "  <thead>\n",
       "    <tr style=\"text-align: right;\">\n",
       "      <th></th>\n",
       "      <th>0_fold</th>\n",
       "      <th>1_fold</th>\n",
       "      <th>2_fold</th>\n",
       "    </tr>\n",
       "  </thead>\n",
       "  <tbody>\n",
       "    <tr>\n",
       "      <th>0</th>\n",
       "      <td>0.039184</td>\n",
       "      <td>0.039570</td>\n",
       "      <td>0.041084</td>\n",
       "    </tr>\n",
       "    <tr>\n",
       "      <th>1</th>\n",
       "      <td>0.067550</td>\n",
       "      <td>0.067261</td>\n",
       "      <td>0.067717</td>\n",
       "    </tr>\n",
       "    <tr>\n",
       "      <th>2</th>\n",
       "      <td>0.044668</td>\n",
       "      <td>0.044717</td>\n",
       "      <td>0.045509</td>\n",
       "    </tr>\n",
       "    <tr>\n",
       "      <th>3</th>\n",
       "      <td>0.050642</td>\n",
       "      <td>0.050824</td>\n",
       "      <td>0.052454</td>\n",
       "    </tr>\n",
       "    <tr>\n",
       "      <th>4</th>\n",
       "      <td>0.188994</td>\n",
       "      <td>0.184470</td>\n",
       "      <td>0.189721</td>\n",
       "    </tr>\n",
       "  </tbody>\n",
       "</table>\n",
       "</div>"
      ],
      "text/plain": [
       "     0_fold    1_fold    2_fold\n",
       "0  0.039184  0.039570  0.041084\n",
       "1  0.067550  0.067261  0.067717\n",
       "2  0.044668  0.044717  0.045509\n",
       "3  0.050642  0.050824  0.052454\n",
       "4  0.188994  0.184470  0.189721"
      ]
     },
     "execution_count": 31,
     "metadata": {},
     "output_type": "execute_result"
    }
   ],
   "source": [
    "prediction.head()"
   ]
  },
  {
   "cell_type": "code",
   "execution_count": 32,
   "id": "1c95dbd0",
   "metadata": {},
   "outputs": [
    {
     "data": {
      "image/png": "[encoded data removed]",
      "text/plain": [
       "<Figure size 576x576 with 1 Axes>"
      ]
     },
     "metadata": {
      "needs_background": "light"
     },
     "output_type": "display_data"
    }
   ],
   "source": [
    "plt.figure(figsize=(8,8))\n",
    "plt.scatter(prediction['0_fold'],df_filtered[df_filtered['month_seq']==112]['VALUE'])\n",
    "plt.xlabel('VALUE',fontsize=14)\n",
    "plt.ylabel('Prediction',fontsize=14)\n",
    "\n",
    "plt.title('Prediction vs VALUE for Month 112',fontsize=18)\n",
    "plt.show()"
   ]
  },
  {
   "cell_type": "code",
   "execution_count": 33,
   "id": "4c2cbab9",
   "metadata": {},
   "outputs": [
    {
     "data": {
      "text/plain": [
       "0.033202481098988094"
      ]
     },
     "execution_count": 33,
     "metadata": {},
     "output_type": "execute_result"
    }
   ],
   "source": [
    "x = 0\n",
    "sum_diff = 0\n",
    "for i in list(prediction['0_fold']):\n",
    "    sum_diff += abs(i-list(df_filtered[df_filtered['month_seq']==112]['VALUE'])[x])\n",
    "    x+=1\n",
    "mae = sum_diff/len(prediction['0_fold'])\n",
    "mae"
   ]
  },
  {
   "cell_type": "code",
   "execution_count": 34,
   "id": "6f89e3cf",
   "metadata": {},
   "outputs": [
    {
     "data": {
      "text/plain": [
       "0.04724587204557478"
      ]
     },
     "execution_count": 34,
     "metadata": {},
     "output_type": "execute_result"
    }
   ],
   "source": [
    "x = 0\n",
    "sum_diff_sq = 0\n",
    "for i in list(prediction['0_fold']):\n",
    "    sum_diff_sq += (i-list(df_filtered[df_filtered['month_seq']==112]['VALUE'])[x])**2\n",
    "    x+=1\n",
    "rmse = (sum_diff_sq/len(prediction['0_fold']))**.5\n",
    "rmse"
   ]
  },
  {
   "cell_type": "code",
   "execution_count": 35,
   "id": "eaa951fb",
   "metadata": {},
   "outputs": [
    {
     "data": {
      "image/png": "[encoded data removed]",
      "text/plain": [
       "<Figure size 576x576 with 1 Axes>"
      ]
     },
     "metadata": {
      "needs_background": "light"
     },
     "output_type": "display_data"
    }
   ],
   "source": [
    "plt.figure(figsize=(8,8))\n",
    "plt.scatter(prediction['1_fold'],df_filtered[df_filtered['month_seq']==113]['VALUE'])\n",
    "plt.xlabel('VALUE',fontsize=14)\n",
    "plt.ylabel('Prediction',fontsize=14)\n",
    "\n",
    "plt.title('Prediction vs VALUE for Months 113',fontsize=18)\n",
    "plt.show()"
   ]
  },
  {
   "cell_type": "code",
   "execution_count": 36,
   "id": "32cd61d3",
   "metadata": {},
   "outputs": [
    {
     "data": {
      "text/plain": [
       "0.031083283286625792"
      ]
     },
     "execution_count": 36,
     "metadata": {},
     "output_type": "execute_result"
    }
   ],
   "source": [
    "x = 0\n",
    "sum_diff = 0\n",
    "for i in list(prediction['1_fold']):\n",
    "    sum_diff += abs(i-list(df_filtered[df_filtered['month_seq']==113]['VALUE'])[x])\n",
    "    x+=1\n",
    "mae = sum_diff/len(prediction['1_fold'])\n",
    "mae"
   ]
  },
  {
   "cell_type": "code",
   "execution_count": 37,
   "id": "b41b8f1e",
   "metadata": {},
   "outputs": [
    {
     "data": {
      "text/plain": [
       "0.043351874944512425"
      ]
     },
     "execution_count": 37,
     "metadata": {},
     "output_type": "execute_result"
    }
   ],
   "source": [
    "x = 0\n",
    "sum_diff_sq = 0\n",
    "for i in list(prediction['1_fold']):\n",
    "    sum_diff_sq += (i-list(df_filtered[df_filtered['month_seq']==113]['VALUE'])[x])**2\n",
    "    x+=1\n",
    "rmse = (sum_diff_sq/len(prediction['1_fold']))**.5\n",
    "rmse"
   ]
  },
  {
   "cell_type": "code",
   "execution_count": 38,
   "id": "a01e146a",
   "metadata": {},
   "outputs": [
    {
     "data": {
      "image/png": "[encoded data removed]",
      "text/plain": [
       "<Figure size 576x576 with 1 Axes>"
      ]
     },
     "metadata": {
      "needs_background": "light"
     },
     "output_type": "display_data"
    }
   ],
   "source": [
    "plt.figure(figsize=(8,8))\n",
    "plt.scatter(prediction['2_fold'],df_filtered[df_filtered['month_seq']==114]['VALUE'])\n",
    "plt.xlabel('VALUE',fontsize=14)\n",
    "plt.ylabel('Prediction',fontsize=14)\n",
    "\n",
    "plt.title('Prediction vs VALUE for Months 114',fontsize=18)\n",
    "plt.show()"
   ]
  },
  {
   "cell_type": "code",
   "execution_count": 39,
   "id": "b7175637",
   "metadata": {},
   "outputs": [
    {
     "data": {
      "text/plain": [
       "0.028098101835805335"
      ]
     },
     "execution_count": 39,
     "metadata": {},
     "output_type": "execute_result"
    }
   ],
   "source": [
    "x = 0\n",
    "sum_diff = 0\n",
    "for i in list(prediction['2_fold']):\n",
    "    sum_diff += abs(i-list(df_filtered[df_filtered['month_seq']==114]['VALUE'])[x])\n",
    "    x+=1\n",
    "mae = sum_diff/len(prediction['2_fold'])\n",
    "mae"
   ]
  },
  {
   "cell_type": "code",
   "execution_count": 40,
   "id": "412b2e9e",
   "metadata": {},
   "outputs": [
    {
     "data": {
      "text/plain": [
       "0.03530005170231166"
      ]
     },
     "execution_count": 40,
     "metadata": {},
     "output_type": "execute_result"
    }
   ],
   "source": [
    "x = 0\n",
    "sum_diff_sq = 0\n",
    "for i in list(prediction['2_fold']):\n",
    "    sum_diff_sq += (i-list(df_filtered[df_filtered['month_seq']==114]['VALUE'])[x])**2\n",
    "    x+=1\n",
    "rmse = (sum_diff_sq/len(prediction['2_fold']))**.5\n",
    "rmse"
   ]
  },
  {
   "cell_type": "code",
   "execution_count": null,
   "id": "ec5a7910",
   "metadata": {},
   "outputs": [],
   "source": []
  },
  {
   "cell_type": "code",
   "execution_count": null,
   "id": "46383869",
   "metadata": {},
   "outputs": [],
   "source": []
  }
 ],
 "metadata": {
  "kernelspec": {
   "display_name": "Python 3 (ipykernel)",
   "language": "python",
   "name": "python3"
  },
  "language_info": {
   "codemirror_mode": {
    "name": "ipython",
    "version": 3
   },
   "file_extension": ".py",
   "mimetype": "text/x-python",
   "name": "python",
   "nbconvert_exporter": "python",
   "pygments_lexer": "ipython3",
   "version": "3.8.12"
  }
 },
 "nbformat": 4,
 "nbformat_minor": 5
}
