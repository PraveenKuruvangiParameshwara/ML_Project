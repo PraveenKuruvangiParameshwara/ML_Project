{
 "cells": [
  {
   "cell_type": "code",
   "execution_count": 1,
   "id": "764d22ec",
   "metadata": {},
   "outputs": [],
   "source": [
    "# /***************************************************************************************\n",
    "# *    Title: Time Series Machine Learning Regression Framework",
    "# *    Author: Pourya Ayria",
    "# *    Date: Apr 16, 2019",
    "# *    Code version: APR 2019",
    "# *    Availability: https://github.com/pourya-ir/Medium/blob/master/Time%20Series%20Machine%20Learning%20Regression%20Framework.ipynb\",
    "# /***************************************************************************************\n",
    "# https://towardsdatascience.com/time-series-machine-learning-regression-framework-9ea33929009a\n",
    "# https://github.com/pourya-ir/Medium/blob/master/Time%20Series%20Machine%20Learning%20Regression%20Framework.ipynb\n",
    "\n",
    "# This notebook shows model excluding impact\n",
    "\n",
    "# Model with parameters: model = SVR(kernel= 'rbf',C= 2.4,epsilon= .0348,shrinking=False,cache_size = 8000)\n",
    "\n",
    "import pandas as pd\n",
    "import numpy as np\n",
    "import matplotlib.pyplot as plt\n",
    "%matplotlib inline\n",
    "\n",
    "from sklearn.pipeline import Pipeline\n",
    "from sklearn.metrics import mean_squared_log_error\n",
    "from sklearn.svm import SVR\n",
    "\n",
    "from sklearn import base\n",
    "\n",
    "import warnings\n",
    "warnings.filterwarnings('ignore')"
   ]
  },
  {
   "cell_type": "markdown",
   "id": "63383060",
   "metadata": {},
   "source": [
    "# Data Prep"
   ]
  },
  {
   "cell_type": "code",
   "execution_count": 2,
   "id": "c455f7f3",
   "metadata": {},
   "outputs": [
    {
     "data": {
      "text/html": [
       "<div>\n",
       "<style scoped>\n",
       "    .dataframe tbody tr th:only-of-type {\n",
       "        vertical-align: middle;\n",
       "    }\n",
       "\n",
       "    .dataframe tbody tr th {\n",
       "        vertical-align: top;\n",
       "    }\n",
       "\n",
       "    .dataframe thead th {\n",
       "        text-align: right;\n",
       "    }\n",
       "</style>\n",
       "<table border=\"1\" class=\"dataframe\">\n",
       "  <thead>\n",
       "    <tr style=\"text-align: right;\">\n",
       "      <th></th>\n",
       "      <th>USASTATE</th>\n",
       "      <th>month_seq</th>\n",
       "      <th>VALUE</th>\n",
       "    </tr>\n",
       "  </thead>\n",
       "  <tbody>\n",
       "    <tr>\n",
       "      <th>0</th>\n",
       "      <td>2</td>\n",
       "      <td>0</td>\n",
       "      <td>0.005562</td>\n",
       "    </tr>\n",
       "    <tr>\n",
       "      <th>1</th>\n",
       "      <td>1</td>\n",
       "      <td>0</td>\n",
       "      <td>0.024734</td>\n",
       "    </tr>\n",
       "    <tr>\n",
       "      <th>2</th>\n",
       "      <td>5</td>\n",
       "      <td>0</td>\n",
       "      <td>0.019671</td>\n",
       "    </tr>\n",
       "    <tr>\n",
       "      <th>3</th>\n",
       "      <td>4</td>\n",
       "      <td>0</td>\n",
       "      <td>0.015062</td>\n",
       "    </tr>\n",
       "    <tr>\n",
       "      <th>4</th>\n",
       "      <td>6</td>\n",
       "      <td>0</td>\n",
       "      <td>0.217410</td>\n",
       "    </tr>\n",
       "    <tr>\n",
       "      <th>...</th>\n",
       "      <td>...</td>\n",
       "      <td>...</td>\n",
       "      <td>...</td>\n",
       "    </tr>\n",
       "    <tr>\n",
       "      <th>5860</th>\n",
       "      <td>50</td>\n",
       "      <td>114</td>\n",
       "      <td>0.032248</td>\n",
       "    </tr>\n",
       "    <tr>\n",
       "      <th>5861</th>\n",
       "      <td>53</td>\n",
       "      <td>114</td>\n",
       "      <td>0.138618</td>\n",
       "    </tr>\n",
       "    <tr>\n",
       "      <th>5862</th>\n",
       "      <td>55</td>\n",
       "      <td>114</td>\n",
       "      <td>0.071326</td>\n",
       "    </tr>\n",
       "    <tr>\n",
       "      <th>5863</th>\n",
       "      <td>54</td>\n",
       "      <td>114</td>\n",
       "      <td>0.020216</td>\n",
       "    </tr>\n",
       "    <tr>\n",
       "      <th>5864</th>\n",
       "      <td>56</td>\n",
       "      <td>114</td>\n",
       "      <td>0.004706</td>\n",
       "    </tr>\n",
       "  </tbody>\n",
       "</table>\n",
       "<p>5865 rows × 3 columns</p>\n",
       "</div>"
      ],
      "text/plain": [
       "      USASTATE  month_seq     VALUE\n",
       "0            2          0  0.005562\n",
       "1            1          0  0.024734\n",
       "2            5          0  0.019671\n",
       "3            4          0  0.015062\n",
       "4            6          0  0.217410\n",
       "...        ...        ...       ...\n",
       "5860        50        114  0.032248\n",
       "5861        53        114  0.138618\n",
       "5862        55        114  0.071326\n",
       "5863        54        114  0.020216\n",
       "5864        56        114  0.004706\n",
       "\n",
       "[5865 rows x 3 columns]"
      ]
     },
     "execution_count": 2,
     "metadata": {},
     "output_type": "execute_result"
    }
   ],
   "source": [
    "df = pd.read_csv('041822_final_data.csv')\n",
    "\n",
    "# TRDTYPE: 1 - Export, 2 - Import\n",
    "# DISAGMOT: 1 - Truck, 2 - Air\n",
    "# COUNTRY: 1 - Canada, 2 - Mexico\n",
    "df_filtered = df[(df['TRDTYPE'] == 2) & (df['DISAGMOT'] == 1) & (df['COUNTRY'] == 1)].copy()\n",
    "\n",
    "\n",
    "df_filtered = df_filtered.drop(columns=['TRDTYPE','DISAGMOT','COUNTRY','MONTH','YEAR','impact'])\n",
    "df_filtered = df_filtered.reset_index().drop(columns= 'index')\n",
    "df_filtered['VALUE'] = df_filtered['VALUE']/df_filtered['VALUE'].max()\n",
    "df_filtered"
   ]
  },
  {
   "cell_type": "markdown",
   "id": "7260f6cb",
   "metadata": {},
   "source": [
    "# To Supervised"
   ]
  },
  {
   "cell_type": "code",
   "execution_count": 3,
   "id": "4ff84a53",
   "metadata": {},
   "outputs": [],
   "source": [
    "class ToSupervised(base.BaseEstimator,base.TransformerMixin):\n",
    "    \n",
    "    def __init__(self,col,groupCol,numLags,dropna=False):\n",
    "        \"\"\" Add previous numLags months VALUE and impact to training/test data\n",
    "        \"\"\"\n",
    "        \n",
    "        self.col = col\n",
    "        self.groupCol = groupCol\n",
    "        self.numLags = numLags\n",
    "        self.dropna = dropna\n",
    "        \n",
    "    def fit(self,X,y=None):\n",
    "        self.X = X\n",
    "        return self\n",
    "    \n",
    "    def transform(self,X):\n",
    "        tmp = self.X.copy()\n",
    "        for i in range(1,self.numLags+1):\n",
    "            tmp[str(i)+'_prev_months'+\"_\"+self.col] = tmp.groupby([self.groupCol])[self.col].shift(i) \n",
    "            \n",
    "        if self.dropna:\n",
    "            tmp = tmp.dropna()\n",
    "            tmp = tmp.reset_index(drop=True)\n",
    "            \n",
    "        return tmp"
   ]
  },
  {
   "cell_type": "code",
   "execution_count": 4,
   "id": "cd076118",
   "metadata": {},
   "outputs": [],
   "source": [
    "class ToSupervisedDiff(base.BaseEstimator,base.TransformerMixin):\n",
    "    \n",
    "    def __init__(self,col,groupCol,numLags,dropna=False):\n",
    "        \"\"\" Add previous difference in numLags months VALUE and impact and current month VALUE to training/test data\n",
    "        \"\"\"\n",
    "        \n",
    "        self.col = col\n",
    "        self.groupCol = groupCol\n",
    "        self.numLags = numLags\n",
    "        self.dropna = dropna\n",
    "        \n",
    "    def fit(self,X,y=None):\n",
    "        self.X = X\n",
    "        return self\n",
    "    \n",
    "    def transform(self,X):\n",
    "        tmp = self.X.copy()\n",
    "        for i in range(1,self.numLags+1):\n",
    "            tmp[str(i)+'_prev_months_diff_'+\"_\"+self.col] = tmp.groupby([self.groupCol])[self.col].diff(i) \n",
    "            \n",
    "        if self.dropna:\n",
    "            tmp = tmp.dropna()\n",
    "            tmp = tmp.reset_index(drop=True)\n",
    "            \n",
    "        return tmp"
   ]
  },
  {
   "cell_type": "markdown",
   "id": "c3f6e4eb",
   "metadata": {},
   "source": [
    "# Time Series K-Fold"
   ]
  },
  {
   "cell_type": "code",
   "execution_count": 5,
   "id": "e437d59e",
   "metadata": {},
   "outputs": [],
   "source": [
    "from itertools import chain\n",
    "class Kfold_time(object):\n",
    "    \n",
    "    def __init__(self,**options):\n",
    "        \"\"\" Implement k-folds cross-validation with training data using a rolling window sampling sequence\n",
    "            and testing using original sequence\n",
    "        \"\"\"\n",
    "        \n",
    "        self.target     = options.pop('target', None)\n",
    "        self.date_col   = options.pop('date_col', None)\n",
    "        self.date_init  = options.pop('date_init', None)\n",
    "        self.date_final = options.pop('date_final', None)\n",
    "\n",
    "        if options:\n",
    "            raise TypeError(\"Invalid parameters passed: %s\" % str(options))\n",
    "            \n",
    "        if ((self.target==None )| (self.date_col==None )| (self.date_init==None ) | (self.date_final==None )):\n",
    "            raise TypeError(\"Incomplete inputs\")\n",
    "    \n",
    "    def _train_test_split_time(self,X):\n",
    "        n_arrays = len(X)\n",
    "        if n_arrays == 0:\n",
    "            raise ValueError(\"At least one array required as input\")\n",
    "\n",
    "        for i in range(self.date_init,self.date_final):\n",
    "\n",
    "            train = X[X[self.date_col] < i]\n",
    "            val   = X[X[self.date_col] == i]\n",
    "\n",
    "            X_train, X_test = train.drop([self.target], axis=1), val.drop([self.target], axis=1)\n",
    "            y_train, y_test = train[self.target].values, val[self.target].values\n",
    "\n",
    "            yield X_train, X_test, y_train, y_test\n",
    "\n",
    "    \n",
    "    def split(self,X):\n",
    "        cv_t = self._train_test_split_time(X)\n",
    "        return chain(cv_t)"
   ]
  },
  {
   "cell_type": "markdown",
   "id": "8804b504",
   "metadata": {},
   "source": [
    "# Metric: RMSLE"
   ]
  },
  {
   "cell_type": "code",
   "execution_count": 6,
   "id": "fd0975cb",
   "metadata": {},
   "outputs": [],
   "source": [
    "def rmsle(ytrue, ypred):\n",
    "    \"\"\" Returns RMSLE of actual vs predicted VALUE\n",
    "    \"\"\"\n",
    "    return np.sqrt(mean_squared_log_error(ytrue, ypred))"
   ]
  },
  {
   "cell_type": "markdown",
   "id": "db397abc",
   "metadata": {},
   "source": [
    "# Baseline Estimator"
   ]
  },
  {
   "cell_type": "code",
   "execution_count": 7,
   "id": "356e7f5d",
   "metadata": {},
   "outputs": [],
   "source": [
    "class BaseEstimator(base.BaseEstimator, base.RegressorMixin):\n",
    "    def __init__(self, predCol):\n",
    "        \"\"\"\n",
    "            As a base model we assume the VALUE last month and this month are the same\n",
    "            Input: \n",
    "                    predCol: l-month ago VALUE\n",
    "        \"\"\"\n",
    "        self.predCol = predCol\n",
    "\n",
    "        \n",
    "    def fit(self, X, y):\n",
    "        return self\n",
    "\n",
    "\n",
    "    def predict(self, X):\n",
    "        prediction = X[self.predCol].values\n",
    "        return prediction\n",
    "\n",
    "    def score(self, X, y,scoring):\n",
    "        \n",
    "        prediction = self.predict(X)\n",
    "    \n",
    "        error =scoring(y, prediction)# np.sqrt(mean_squared_log_error(y, prediction))\n",
    "        return error "
   ]
  },
  {
   "cell_type": "markdown",
   "id": "3d0b1042",
   "metadata": {},
   "source": [
    "# Time Series Regression"
   ]
  },
  {
   "cell_type": "code",
   "execution_count": 8,
   "id": "ae221acc",
   "metadata": {},
   "outputs": [],
   "source": [
    "class TimeSeriesRegressor(base.BaseEstimator, base.RegressorMixin):\n",
    "    \n",
    "    def __init__(self,model,cv,scoring,verbosity=True):\n",
    "        \"\"\" Time-series regression of over k-folds, no scaling\n",
    "        \"\"\"\n",
    "        self.model = model\n",
    "        self.cv = cv\n",
    "        self.verbosity = verbosity\n",
    "        self.scoring = scoring \n",
    "        \n",
    "            \n",
    "    def fit(self,X,y=None):\n",
    "        return self\n",
    "        \n",
    "    \n",
    "    def predict(self,X=None):\n",
    "        \n",
    "        pred = {}\n",
    "        for indx,fold in enumerate(self.cv.split(X)):\n",
    "\n",
    "            X_train, X_test, y_train, y_test = fold    \n",
    "            self.model.fit(X_train, y_train)\n",
    "            pred[str(indx)+'_fold'] = self.model.predict(X_test)\n",
    "            \n",
    "        prediction = pd.DataFrame(pred)\n",
    "    \n",
    "        return prediction\n",
    "    \n",
    "\n",
    "    def score(self,X,y=None):\n",
    "\n",
    "\n",
    "        errors = []\n",
    "        for indx,fold in enumerate(self.cv.split(X)):\n",
    "\n",
    "            X_train, X_test, y_train, y_test = fold    \n",
    "            self.model.fit(X_train, y_train)\n",
    "            prediction = self.model.predict(X_test)\n",
    "            error = self.scoring(y_test, prediction)\n",
    "            errors.append(error)\n",
    "\n",
    "            if self.verbosity:\n",
    "                print(\"Fold: {}, Error: {:.4f}\".format(indx,error))\n",
    "\n",
    "        if self.verbosity:\n",
    "            print('Total Error {:.4f}'.format(np.mean(errors)))\n",
    "\n",
    "        return errors"
   ]
  },
  {
   "cell_type": "code",
   "execution_count": 9,
   "id": "49a33b3a",
   "metadata": {},
   "outputs": [],
   "source": [
    "class TimeSeriesRegressorLog(base.BaseEstimator, base.RegressorMixin):\n",
    "    \n",
    "    def __init__(self,model,cv,scoring,verbosity=True):\n",
    "        \"\"\" Time-series regression of over k-folds, log scaling of target in training\n",
    "        \"\"\"\n",
    "        self.model = model\n",
    "        self.cv = cv\n",
    "        self.verbosity = verbosity\n",
    "        self.scoring = scoring\n",
    "        \n",
    "            \n",
    "    def fit(self,X,y=None):\n",
    "        return self\n",
    "        \n",
    "    \n",
    "    def predict(self,X=None):\n",
    "        \n",
    "        pred = {}\n",
    "        for indx,fold in enumerate(self.cv.split(X)):\n",
    "\n",
    "            X_train, X_test, y_train, y_test = fold    \n",
    "            self.model.fit(X_train, y_train)\n",
    "            pred[str(indx)+'_fold'] = self.model.predict(X_test)\n",
    "            \n",
    "        prediction = pd.DataFrame(pred)\n",
    "    \n",
    "        return prediction\n",
    "\n",
    "    \n",
    "    def score(self,X,y=None):#**options):\n",
    "\n",
    "\n",
    "        errors = []\n",
    "        for indx,fold in enumerate(self.cv.split(X)):\n",
    "\n",
    "            X_train, X_test, y_train, y_test = fold    \n",
    "            self.model.fit(X_train, np.log1p(y_train))\n",
    "            prediction = np.expm1(self.model.predict(X_test))\n",
    "            error = self.scoring(y_test, prediction)\n",
    "            errors.append(error)\n",
    "\n",
    "            if self.verbosity:\n",
    "                print(\"Fold: {}, Error: {:.4f}\".format(indx,error))\n",
    "\n",
    "        if self.verbosity:\n",
    "                print('Total Error {:.4f}'.format(np.mean(errors)))\n",
    "\n",
    "        return errors"
   ]
  },
  {
   "cell_type": "markdown",
   "id": "ba121f69",
   "metadata": {},
   "source": [
    "# Steps Tuning"
   ]
  },
  {
   "cell_type": "code",
   "execution_count": 10,
   "id": "9a810958",
   "metadata": {},
   "outputs": [],
   "source": [
    "def getDataFramePipeline(i):\n",
    "    \"\"\" Helper function to create step tuning pipleine\n",
    "    \"\"\"\n",
    "    steps = [(str(i)+'_step',ToSupervised('VALUE','USASTATE',i))]\n",
    "    for j in range(1,i+1):\n",
    "        if i==j:\n",
    "\n",
    "            pp = (str(j)+'_step_diff',\n",
    "                  ToSupervisedDiff(str(i)+'_prev_months_VALUE','USASTATE',1,dropna=True))\n",
    "            steps.append(pp)\n",
    "        else:\n",
    "\n",
    "            pp = (str(j)+'_step_diff',\n",
    "                  ToSupervisedDiff(str(i)+'_prev_months_VALUE','USASTATE',1))\n",
    "            steps.append(pp)\n",
    "            \n",
    "    return steps"
   ]
  },
  {
   "cell_type": "code",
   "execution_count": 11,
   "id": "c7750685",
   "metadata": {},
   "outputs": [],
   "source": [
    "from tqdm import tqdm\n",
    "def stepsTune(X,model,num_steps,init=1):\n",
    "    \"\"\" Gather scores when varing number of lags in time series\n",
    "    \"\"\"\n",
    "    scores = []\n",
    "    for i in tqdm(range(init,num_steps+1)):\n",
    "        steps = []\n",
    "        steps.extend(getDataFramePipeline(i))\n",
    "        steps.append(('predic_1',model))\n",
    "        super_ = Pipeline(steps).fit(X)\n",
    "        score_ = np.mean(super_.score(X))\n",
    "        scores.append((i,score_))\n",
    "        \n",
    "    return scores"
   ]
  },
  {
   "cell_type": "markdown",
   "id": "9cea69a6",
   "metadata": {},
   "source": [
    "# State VALUE Distribution"
   ]
  },
  {
   "cell_type": "code",
   "execution_count": 12,
   "id": "5ebed0de",
   "metadata": {},
   "outputs": [
    {
     "data": {
      "image/png": "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\n",
      "text/plain": [
       "<Figure size 720x360 with 1 Axes>"
      ]
     },
     "metadata": {
      "needs_background": "light"
     },
     "output_type": "display_data"
    }
   ],
   "source": [
    "df_filtered['VALUE'].hist(bins=20, figsize=(10,5))\n",
    "plt.xlabel('VALUE ranges',fontsize=14)\n",
    "plt.ylabel('Count Number of VALUE range',fontsize=14)\n",
    "plt.title('VALUE',fontsize=20)\n",
    "plt.show()"
   ]
  },
  {
   "cell_type": "markdown",
   "id": "4b4cb1e4",
   "metadata": {},
   "source": [
    "# Data Prep"
   ]
  },
  {
   "cell_type": "code",
   "execution_count": 13,
   "id": "7a9b9316",
   "metadata": {},
   "outputs": [
    {
     "data": {
      "text/html": [
       "<div>\n",
       "<style scoped>\n",
       "    .dataframe tbody tr th:only-of-type {\n",
       "        vertical-align: middle;\n",
       "    }\n",
       "\n",
       "    .dataframe tbody tr th {\n",
       "        vertical-align: top;\n",
       "    }\n",
       "\n",
       "    .dataframe thead th {\n",
       "        text-align: right;\n",
       "    }\n",
       "</style>\n",
       "<table border=\"1\" class=\"dataframe\">\n",
       "  <thead>\n",
       "    <tr style=\"text-align: right;\">\n",
       "      <th></th>\n",
       "      <th>USASTATE</th>\n",
       "      <th>month_seq</th>\n",
       "      <th>VALUE</th>\n",
       "      <th>1_prev_months_VALUE</th>\n",
       "      <th>1_prev_months_diff__1_prev_months_VALUE</th>\n",
       "    </tr>\n",
       "  </thead>\n",
       "  <tbody>\n",
       "    <tr>\n",
       "      <th>0</th>\n",
       "      <td>2</td>\n",
       "      <td>2</td>\n",
       "      <td>0.007090</td>\n",
       "      <td>0.007027</td>\n",
       "      <td>0.001466</td>\n",
       "    </tr>\n",
       "    <tr>\n",
       "      <th>1</th>\n",
       "      <td>1</td>\n",
       "      <td>2</td>\n",
       "      <td>0.029417</td>\n",
       "      <td>0.029723</td>\n",
       "      <td>0.004990</td>\n",
       "    </tr>\n",
       "    <tr>\n",
       "      <th>2</th>\n",
       "      <td>5</td>\n",
       "      <td>2</td>\n",
       "      <td>0.013561</td>\n",
       "      <td>0.019240</td>\n",
       "      <td>-0.000431</td>\n",
       "    </tr>\n",
       "    <tr>\n",
       "      <th>3</th>\n",
       "      <td>4</td>\n",
       "      <td>2</td>\n",
       "      <td>0.013500</td>\n",
       "      <td>0.014380</td>\n",
       "      <td>-0.000682</td>\n",
       "    </tr>\n",
       "    <tr>\n",
       "      <th>4</th>\n",
       "      <td>6</td>\n",
       "      <td>2</td>\n",
       "      <td>0.252416</td>\n",
       "      <td>0.169317</td>\n",
       "      <td>-0.048093</td>\n",
       "    </tr>\n",
       "  </tbody>\n",
       "</table>\n",
       "</div>"
      ],
      "text/plain": [
       "   USASTATE  month_seq     VALUE  1_prev_months_VALUE  \\\n",
       "0         2          2  0.007090             0.007027   \n",
       "1         1          2  0.029417             0.029723   \n",
       "2         5          2  0.013561             0.019240   \n",
       "3         4          2  0.013500             0.014380   \n",
       "4         6          2  0.252416             0.169317   \n",
       "\n",
       "   1_prev_months_diff__1_prev_months_VALUE  \n",
       "0                                 0.001466  \n",
       "1                                 0.004990  \n",
       "2                                -0.000431  \n",
       "3                                -0.000682  \n",
       "4                                -0.048093  "
      ]
     },
     "execution_count": 13,
     "metadata": {},
     "output_type": "execute_result"
    }
   ],
   "source": [
    "steps = [('1_step',ToSupervised('VALUE','USASTATE',1)),\n",
    "         ('1_step_diff',ToSupervisedDiff('1_prev_months_VALUE','USASTATE',1,dropna=True))]\n",
    "super_1 = Pipeline(steps).fit_transform(df_filtered)\n",
    "super_1.head()"
   ]
  },
  {
   "cell_type": "markdown",
   "id": "d9ba99ba",
   "metadata": {},
   "source": [
    "# Base Model"
   ]
  },
  {
   "cell_type": "code",
   "execution_count": 14,
   "id": "6b89ef83",
   "metadata": {},
   "outputs": [],
   "source": [
    "kf_train = Kfold_time(target='VALUE',date_col = 'month_seq',date_init=50,date_final=75)"
   ]
  },
  {
   "cell_type": "code",
   "execution_count": 15,
   "id": "dd1d365e",
   "metadata": {
    "scrolled": true
   },
   "outputs": [
    {
     "name": "stdout",
     "output_type": "stream",
     "text": [
      "Fold: 0, Error: 0.008\n",
      "Fold: 1, Error: 0.015\n",
      "Fold: 2, Error: 0.007\n",
      "Fold: 3, Error: 0.014\n",
      "Fold: 4, Error: 0.008\n",
      "Fold: 5, Error: 0.010\n",
      "Fold: 6, Error: 0.009\n",
      "Fold: 7, Error: 0.017\n",
      "Fold: 8, Error: 0.012\n",
      "Fold: 9, Error: 0.006\n",
      "Fold: 10, Error: 0.025\n",
      "Fold: 11, Error: 0.023\n",
      "Fold: 12, Error: 0.026\n",
      "Fold: 13, Error: 0.009\n",
      "Fold: 14, Error: 0.009\n",
      "Fold: 15, Error: 0.010\n",
      "Fold: 16, Error: 0.010\n",
      "Fold: 17, Error: 0.006\n",
      "Fold: 18, Error: 0.008\n",
      "Fold: 19, Error: 0.012\n",
      "Fold: 20, Error: 0.009\n",
      "Fold: 21, Error: 0.010\n",
      "Fold: 22, Error: 0.012\n",
      "Fold: 23, Error: 0.023\n",
      "Fold: 24, Error: 0.018\n",
      "Total Error 0.013\n"
     ]
    }
   ],
   "source": [
    "base_model = BaseEstimator('1_prev_months_VALUE')\n",
    "errors = []\n",
    "for indx,fold in enumerate(kf_train.split(super_1)):\n",
    "    X_train, X_test, y_train, y_test = fold\n",
    "    error = base_model.score(X_test,y_test,rmsle)\n",
    "    errors.append(error)\n",
    "    print(\"Fold: {}, Error: {:.3f}\".format(indx,error))\n",
    "    \n",
    "print('Total Error {:.3f}'.format(np.mean(errors)))"
   ]
  },
  {
   "cell_type": "markdown",
   "id": "69bd23e4",
   "metadata": {},
   "source": [
    "# Prediction v Actual Value"
   ]
  },
  {
   "cell_type": "code",
   "execution_count": 16,
   "id": "ea0f8caa",
   "metadata": {},
   "outputs": [],
   "source": [
    "kf_test = Kfold_time(target='VALUE',date_col = 'month_seq',date_init=112,date_final=115)\n",
    "\n",
    "steps_1 = getDataFramePipeline(1)\n",
    "super_1 = Pipeline(steps_1).fit_transform(df_filtered)"
   ]
  },
  {
   "cell_type": "code",
   "execution_count": null,
   "id": "2db40cf0",
   "metadata": {},
   "outputs": [],
   "source": []
  },
  {
   "cell_type": "code",
   "execution_count": 17,
   "id": "7be4dc4d",
   "metadata": {},
   "outputs": [],
   "source": [
    "model = BaseEstimator('1_prev_months_VALUE')\n",
    "\n",
    "T_test = TimeSeriesRegressor(model=model ,scoring=rmsle,\n",
    "                                             cv=kf_test,verbosity=False)\n",
    "T_test.fit(super_1)\n",
    "prediction =T_test.predict(super_1)"
   ]
  },
  {
   "cell_type": "code",
   "execution_count": 18,
   "id": "a88b3b05",
   "metadata": {},
   "outputs": [
    {
     "data": {
      "text/html": [
       "<div>\n",
       "<style scoped>\n",
       "    .dataframe tbody tr th:only-of-type {\n",
       "        vertical-align: middle;\n",
       "    }\n",
       "\n",
       "    .dataframe tbody tr th {\n",
       "        vertical-align: top;\n",
       "    }\n",
       "\n",
       "    .dataframe thead th {\n",
       "        text-align: right;\n",
       "    }\n",
       "</style>\n",
       "<table border=\"1\" class=\"dataframe\">\n",
       "  <thead>\n",
       "    <tr style=\"text-align: right;\">\n",
       "      <th></th>\n",
       "      <th>0_fold</th>\n",
       "      <th>1_fold</th>\n",
       "      <th>2_fold</th>\n",
       "    </tr>\n",
       "  </thead>\n",
       "  <tbody>\n",
       "    <tr>\n",
       "      <th>0</th>\n",
       "      <td>0.016767</td>\n",
       "      <td>0.014106</td>\n",
       "      <td>0.008105</td>\n",
       "    </tr>\n",
       "    <tr>\n",
       "      <th>1</th>\n",
       "      <td>0.055756</td>\n",
       "      <td>0.051358</td>\n",
       "      <td>0.035775</td>\n",
       "    </tr>\n",
       "    <tr>\n",
       "      <th>2</th>\n",
       "      <td>0.014181</td>\n",
       "      <td>0.015891</td>\n",
       "      <td>0.014990</td>\n",
       "    </tr>\n",
       "    <tr>\n",
       "      <th>3</th>\n",
       "      <td>0.033316</td>\n",
       "      <td>0.029522</td>\n",
       "      <td>0.036762</td>\n",
       "    </tr>\n",
       "    <tr>\n",
       "      <th>4</th>\n",
       "      <td>0.271954</td>\n",
       "      <td>0.276265</td>\n",
       "      <td>0.265267</td>\n",
       "    </tr>\n",
       "  </tbody>\n",
       "</table>\n",
       "</div>"
      ],
      "text/plain": [
       "     0_fold    1_fold    2_fold\n",
       "0  0.016767  0.014106  0.008105\n",
       "1  0.055756  0.051358  0.035775\n",
       "2  0.014181  0.015891  0.014990\n",
       "3  0.033316  0.029522  0.036762\n",
       "4  0.271954  0.276265  0.265267"
      ]
     },
     "execution_count": 18,
     "metadata": {},
     "output_type": "execute_result"
    }
   ],
   "source": [
    "prediction.head()"
   ]
  },
  {
   "cell_type": "code",
   "execution_count": 19,
   "id": "e439366b",
   "metadata": {},
   "outputs": [
    {
     "data": {
      "image/png": "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\n",
      "text/plain": [
       "<Figure size 576x576 with 1 Axes>"
      ]
     },
     "metadata": {
      "needs_background": "light"
     },
     "output_type": "display_data"
    }
   ],
   "source": [
    "plt.figure(figsize=(8,8))\n",
    "plt.scatter(prediction['0_fold'],df_filtered[df_filtered['month_seq']==112]['VALUE'])\n",
    "plt.xlabel('VALUE',fontsize=14)\n",
    "plt.ylabel('Prediction',fontsize=14)\n",
    "\n",
    "plt.title('Prediction vs VALUE for Month 112',fontsize=18)\n",
    "plt.show()"
   ]
  },
  {
   "cell_type": "markdown",
   "id": "00e859a7",
   "metadata": {},
   "source": [
    "# First Model - One Step"
   ]
  },
  {
   "cell_type": "code",
   "execution_count": 20,
   "id": "6c6cab23",
   "metadata": {},
   "outputs": [],
   "source": [
    "kf_train = Kfold_time(target='VALUE',date_col = 'month_seq',date_init=50,date_final=75)\n",
    "model = SVR(kernel= 'rbf',C= 2.4,epsilon= .0348,shrinking=False,cache_size = 8000)"
   ]
  },
  {
   "cell_type": "code",
   "execution_count": 21,
   "id": "7be89fe4",
   "metadata": {},
   "outputs": [],
   "source": [
    "steps_1 = [('1_step',ToSupervised('VALUE','USASTATE',1)),\n",
    "         ('1_step_diff',ToSupervisedDiff('1_prev_months_VALUE','USASTATE',1,dropna=True)),\n",
    "         ('predic_1',TimeSeriesRegressor(model=model,cv=kf_train,scoring=rmsle))]\n",
    "super_1_p = Pipeline(steps_1).fit(df_filtered)"
   ]
  },
  {
   "cell_type": "code",
   "execution_count": 22,
   "id": "0c3922fe",
   "metadata": {},
   "outputs": [
    {
     "name": "stdout",
     "output_type": "stream",
     "text": [
      "Fold: 0, Error: 0.0696\n",
      "Fold: 1, Error: 0.0784\n",
      "Fold: 2, Error: 0.0751\n",
      "Fold: 3, Error: 0.0666\n",
      "Fold: 4, Error: 0.0699\n",
      "Fold: 5, Error: 0.0643\n",
      "Fold: 6, Error: 0.0623\n",
      "Fold: 7, Error: 0.0750\n",
      "Fold: 8, Error: 0.0676\n",
      "Fold: 9, Error: 0.0663\n",
      "Fold: 10, Error: 0.0874\n",
      "Fold: 11, Error: 0.0690\n",
      "Fold: 12, Error: 0.0751\n",
      "Fold: 13, Error: 0.0766\n",
      "Fold: 14, Error: 0.0796\n",
      "Fold: 15, Error: 0.0717\n",
      "Fold: 16, Error: 0.0700\n",
      "Fold: 17, Error: 0.0730\n",
      "Fold: 18, Error: 0.0768\n",
      "Fold: 19, Error: 0.0813\n",
      "Fold: 20, Error: 0.0743\n",
      "Fold: 21, Error: 0.0795\n",
      "Fold: 22, Error: 0.0841\n",
      "Fold: 23, Error: 0.0632\n",
      "Fold: 24, Error: 0.0832\n",
      "Total Error 0.0736\n"
     ]
    }
   ],
   "source": [
    "Model_1_Error = super_1_p.score(df_filtered)"
   ]
  },
  {
   "cell_type": "markdown",
   "id": "5e41de9e",
   "metadata": {},
   "source": [
    "# Second Model - Four Steps"
   ]
  },
  {
   "cell_type": "code",
   "execution_count": 23,
   "id": "91ce2123",
   "metadata": {},
   "outputs": [],
   "source": [
    "kf_train = Kfold_time(target='VALUE',date_col = 'month_seq',date_init=50,date_final=75)\n",
    "model = SVR(kernel= 'rbf',C= 2.4,epsilon= .0348,shrinking=False,cache_size = 8000)"
   ]
  },
  {
   "cell_type": "code",
   "execution_count": 24,
   "id": "5040f445",
   "metadata": {},
   "outputs": [],
   "source": [
    "steps_3 = [('1_step',ToSupervised('VALUE','USASTATE',3)),\n",
    "         ('1_step_diff',ToSupervisedDiff('1_prev_months_VALUE','USASTATE',1)),\n",
    "         ('2_step_diff',ToSupervisedDiff('2_prev_months_VALUE','USASTATE',1)),\n",
    "         ('3_step_diff',ToSupervisedDiff('3_prev_months_VALUE','USASTATE',1,dropna=True)),\n",
    "         ('predic_3',TimeSeriesRegressor(model=model,cv=kf_train,scoring=rmsle))]\n",
    "super_3_p = Pipeline(steps_3).fit(df_filtered)"
   ]
  },
  {
   "cell_type": "code",
   "execution_count": 25,
   "id": "dd8f8f23",
   "metadata": {},
   "outputs": [
    {
     "name": "stdout",
     "output_type": "stream",
     "text": [
      "Fold: 0, Error: 0.0437\n",
      "Fold: 1, Error: 0.0520\n",
      "Fold: 2, Error: 0.0515\n",
      "Fold: 3, Error: 0.0436\n",
      "Fold: 4, Error: 0.0439\n",
      "Fold: 5, Error: 0.0406\n",
      "Fold: 6, Error: 0.0398\n",
      "Fold: 7, Error: 0.0513\n",
      "Fold: 8, Error: 0.0463\n",
      "Fold: 9, Error: 0.0444\n",
      "Fold: 10, Error: 0.0627\n",
      "Fold: 11, Error: 0.0488\n",
      "Fold: 12, Error: 0.0500\n",
      "Fold: 13, Error: 0.0508\n",
      "Fold: 14, Error: 0.0557\n",
      "Fold: 15, Error: 0.0475\n",
      "Fold: 16, Error: 0.0449\n",
      "Fold: 17, Error: 0.0472\n",
      "Fold: 18, Error: 0.0526\n",
      "Fold: 19, Error: 0.0573\n",
      "Fold: 20, Error: 0.0505\n",
      "Fold: 21, Error: 0.0532\n",
      "Fold: 22, Error: 0.0578\n",
      "Fold: 23, Error: 0.0403\n",
      "Fold: 24, Error: 0.0542\n",
      "Total Error 0.0492\n"
     ]
    }
   ],
   "source": [
    "Model_3_Error = super_3_p.score(df_filtered)"
   ]
  },
  {
   "cell_type": "markdown",
   "id": "0c02b648",
   "metadata": {},
   "source": [
    "# Change Target Distribution"
   ]
  },
  {
   "cell_type": "code",
   "execution_count": 26,
   "id": "0337ece2",
   "metadata": {},
   "outputs": [],
   "source": [
    "kf_train = Kfold_time(target='VALUE',date_col = 'month_seq',date_init=50,date_final=75)\n",
    "model = SVR(kernel= 'rbf',C= 2.4,epsilon= .0348,shrinking=False,cache_size = 8000)"
   ]
  },
  {
   "cell_type": "code",
   "execution_count": 27,
   "id": "4997b1bc",
   "metadata": {},
   "outputs": [],
   "source": [
    "steps_3_log = [('1_step',ToSupervised('VALUE','USASTATE',3)),\n",
    "         ('1_step_diff',ToSupervisedDiff('1_prev_months_VALUE','USASTATE',1)),\n",
    "         ('2_step_diff',ToSupervisedDiff('2_prev_months_VALUE','USASTATE',1)),\n",
    "         ('3_step_diff',ToSupervisedDiff('3_prev_months_VALUE','USASTATE',1,dropna=True)),\n",
    "         ('predic_3',TimeSeriesRegressorLog(model=model,cv=kf_train,scoring=rmsle))]\n",
    "super_3_p_log = Pipeline(steps_3_log).fit(df_filtered)"
   ]
  },
  {
   "cell_type": "code",
   "execution_count": 28,
   "id": "583a9656",
   "metadata": {},
   "outputs": [
    {
     "name": "stdout",
     "output_type": "stream",
     "text": [
      "Fold: 0, Error: 0.0416\n",
      "Fold: 1, Error: 0.0494\n",
      "Fold: 2, Error: 0.0491\n",
      "Fold: 3, Error: 0.0411\n",
      "Fold: 4, Error: 0.0412\n",
      "Fold: 5, Error: 0.0386\n",
      "Fold: 6, Error: 0.0383\n",
      "Fold: 7, Error: 0.0497\n",
      "Fold: 8, Error: 0.0451\n",
      "Fold: 9, Error: 0.0430\n",
      "Fold: 10, Error: 0.0610\n",
      "Fold: 11, Error: 0.0475\n",
      "Fold: 12, Error: 0.0480\n",
      "Fold: 13, Error: 0.0483\n",
      "Fold: 14, Error: 0.0531\n",
      "Fold: 15, Error: 0.0440\n",
      "Fold: 16, Error: 0.0419\n",
      "Fold: 17, Error: 0.0444\n",
      "Fold: 18, Error: 0.0498\n",
      "Fold: 19, Error: 0.0542\n",
      "Fold: 20, Error: 0.0472\n",
      "Fold: 21, Error: 0.0500\n",
      "Fold: 22, Error: 0.0536\n",
      "Fold: 23, Error: 0.0375\n",
      "Fold: 24, Error: 0.0508\n",
      "Total Error 0.0467\n"
     ]
    }
   ],
   "source": [
    "Model_3_Log_Error = super_3_p_log.score(df_filtered)"
   ]
  },
  {
   "cell_type": "markdown",
   "id": "8a810bae",
   "metadata": {},
   "source": [
    "# Tuning Number of Steps"
   ]
  },
  {
   "cell_type": "code",
   "execution_count": 29,
   "id": "2cead843",
   "metadata": {},
   "outputs": [],
   "source": [
    "kf_train = Kfold_time(target='VALUE',date_col = 'month_seq',date_init=50,date_final=75)\n",
    "model = SVR(kernel= 'rbf',C= 2.4,epsilon= .0348,shrinking=False,cache_size = 8000)"
   ]
  },
  {
   "cell_type": "code",
   "execution_count": 30,
   "id": "bc09df98",
   "metadata": {},
   "outputs": [
    {
     "name": "stderr",
     "output_type": "stream",
     "text": [
      "100%|██████████████████████████████████████████████████████████████████████████████████| 18/18 [06:36<00:00, 22.04s/it]\n"
     ]
    }
   ],
   "source": [
    "list_scores2 = stepsTune(df_filtered,\n",
    "                         TimeSeriesRegressorLog(model=model,scoring=rmsle,\n",
    "                                             cv=kf_train,verbosity=False),18)"
   ]
  },
  {
   "cell_type": "code",
   "execution_count": 31,
   "id": "0e843fe1",
   "metadata": {
    "scrolled": false
   },
   "outputs": [
    {
     "data": {
      "text/plain": [
       "Text(0.5, 1.0, 'Steps Tuning')"
      ]
     },
     "execution_count": 31,
     "metadata": {},
     "output_type": "execute_result"
    },
    {
     "data": {
      "image/png": "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\n",
      "text/plain": [
       "<Figure size 720x432 with 1 Axes>"
      ]
     },
     "metadata": {
      "needs_background": "light"
     },
     "output_type": "display_data"
    }
   ],
   "source": [
    "plt.figure(figsize=(10,6))\n",
    "x = [i[0] for i in list_scores2]\n",
    "y = [i[1] for i in list_scores2]\n",
    "plt.plot(x,y,color='green', marker='o', linestyle='dashed',\n",
    "        linewidth=2, markersize=12)\n",
    "plt.xticks(np.arange(1, 19, step=1))\n",
    "plt.xlabel('Steps',fontsize=14)\n",
    "plt.ylabel('RMSLE',fontsize=14)\n",
    "plt.title('Steps Tuning',fontsize=18)"
   ]
  },
  {
   "cell_type": "markdown",
   "id": "89e96a93",
   "metadata": {},
   "source": [
    "# Prediction v Actual Value"
   ]
  },
  {
   "cell_type": "code",
   "execution_count": 45,
   "id": "f971480d",
   "metadata": {},
   "outputs": [],
   "source": [
    "kf_test= Kfold_time(target='VALUE',date_col = 'month_seq',date_init=112,date_final=115)\n",
    "model = SVR(kernel= 'rbf',C= 2.4,epsilon= .0348,shrinking=False,cache_size = 8000)"
   ]
  },
  {
   "cell_type": "code",
   "execution_count": 46,
   "id": "ebc9b8e7",
   "metadata": {},
   "outputs": [],
   "source": [
    "steps_14 = getDataFramePipeline(14)\n",
    "super_14 = Pipeline(steps_14).fit_transform(df_filtered)"
   ]
  },
  {
   "cell_type": "code",
   "execution_count": 47,
   "id": "83d1d18e",
   "metadata": {},
   "outputs": [],
   "source": [
    "T_test = TimeSeriesRegressor(model=model ,scoring=rmsle,\n",
    "                                             cv=kf_test,verbosity=False)\n",
    "T_test.fit(super_14)\n",
    "prediction =T_test.predict(super_14)"
   ]
  },
  {
   "cell_type": "code",
   "execution_count": 48,
   "id": "bbe908e1",
   "metadata": {},
   "outputs": [
    {
     "data": {
      "text/html": [
       "<div>\n",
       "<style scoped>\n",
       "    .dataframe tbody tr th:only-of-type {\n",
       "        vertical-align: middle;\n",
       "    }\n",
       "\n",
       "    .dataframe tbody tr th {\n",
       "        vertical-align: top;\n",
       "    }\n",
       "\n",
       "    .dataframe thead th {\n",
       "        text-align: right;\n",
       "    }\n",
       "</style>\n",
       "<table border=\"1\" class=\"dataframe\">\n",
       "  <thead>\n",
       "    <tr style=\"text-align: right;\">\n",
       "      <th></th>\n",
       "      <th>0_fold</th>\n",
       "      <th>1_fold</th>\n",
       "      <th>2_fold</th>\n",
       "    </tr>\n",
       "  </thead>\n",
       "  <tbody>\n",
       "    <tr>\n",
       "      <th>0</th>\n",
       "      <td>0.039925</td>\n",
       "      <td>0.040376</td>\n",
       "      <td>0.041475</td>\n",
       "    </tr>\n",
       "    <tr>\n",
       "      <th>1</th>\n",
       "      <td>0.068068</td>\n",
       "      <td>0.068292</td>\n",
       "      <td>0.068119</td>\n",
       "    </tr>\n",
       "    <tr>\n",
       "      <th>2</th>\n",
       "      <td>0.045148</td>\n",
       "      <td>0.045370</td>\n",
       "      <td>0.045801</td>\n",
       "    </tr>\n",
       "    <tr>\n",
       "      <th>3</th>\n",
       "      <td>0.051238</td>\n",
       "      <td>0.051567</td>\n",
       "      <td>0.052808</td>\n",
       "    </tr>\n",
       "    <tr>\n",
       "      <th>4</th>\n",
       "      <td>0.183932</td>\n",
       "      <td>0.185993</td>\n",
       "      <td>0.188020</td>\n",
       "    </tr>\n",
       "  </tbody>\n",
       "</table>\n",
       "</div>"
      ],
      "text/plain": [
       "     0_fold    1_fold    2_fold\n",
       "0  0.039925  0.040376  0.041475\n",
       "1  0.068068  0.068292  0.068119\n",
       "2  0.045148  0.045370  0.045801\n",
       "3  0.051238  0.051567  0.052808\n",
       "4  0.183932  0.185993  0.188020"
      ]
     },
     "execution_count": 48,
     "metadata": {},
     "output_type": "execute_result"
    }
   ],
   "source": [
    "prediction.head()"
   ]
  },
  {
   "cell_type": "code",
   "execution_count": 49,
   "id": "1796c001",
   "metadata": {},
   "outputs": [
    {
     "data": {
      "image/png": "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\n",
      "text/plain": [
       "<Figure size 576x576 with 1 Axes>"
      ]
     },
     "metadata": {
      "needs_background": "light"
     },
     "output_type": "display_data"
    }
   ],
   "source": [
    "plt.figure(figsize=(8,8))\n",
    "plt.scatter(prediction['0_fold'],df_filtered[df_filtered['month_seq']==112]['VALUE'])\n",
    "plt.xlabel('VALUE',fontsize=14)\n",
    "plt.ylabel('Prediction',fontsize=14)\n",
    "\n",
    "plt.title('Prediction vs VALUE for Month 112',fontsize=18)\n",
    "plt.show()"
   ]
  },
  {
   "cell_type": "code",
   "execution_count": 50,
   "id": "caa0415e",
   "metadata": {},
   "outputs": [
    {
     "data": {
      "text/plain": [
       "0.033488221893998624"
      ]
     },
     "execution_count": 50,
     "metadata": {},
     "output_type": "execute_result"
    }
   ],
   "source": [
    "x = 0\n",
    "sum_diff = 0\n",
    "for i in list(prediction['0_fold']):\n",
    "    sum_diff += abs(i-list(df_filtered[df_filtered['month_seq']==112]['VALUE'])[x])\n",
    "    x+=1\n",
    "mae = sum_diff/len(prediction['0_fold'])\n",
    "mae"
   ]
  },
  {
   "cell_type": "code",
   "execution_count": 51,
   "id": "5f60f672",
   "metadata": {},
   "outputs": [
    {
     "data": {
      "text/plain": [
       "0.04759793889500258"
      ]
     },
     "execution_count": 51,
     "metadata": {},
     "output_type": "execute_result"
    }
   ],
   "source": [
    "x = 0\n",
    "sum_diff_sq = 0\n",
    "for i in list(prediction['0_fold']):\n",
    "    sum_diff_sq += (i-list(df_filtered[df_filtered['month_seq']==112]['VALUE'])[x])**2\n",
    "    x+=1\n",
    "rmse = (sum_diff_sq/len(prediction['0_fold']))**.5\n",
    "rmse"
   ]
  },
  {
   "cell_type": "code",
   "execution_count": 52,
   "id": "0129f9ea",
   "metadata": {},
   "outputs": [
    {
     "data": {
      "image/png": "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\n",
      "text/plain": [
       "<Figure size 576x576 with 1 Axes>"
      ]
     },
     "metadata": {
      "needs_background": "light"
     },
     "output_type": "display_data"
    }
   ],
   "source": [
    "plt.figure(figsize=(8,8))\n",
    "plt.scatter(prediction['1_fold'],df_filtered[df_filtered['month_seq']==113]['VALUE'])\n",
    "plt.xlabel('VALUE',fontsize=14)\n",
    "plt.ylabel('Prediction',fontsize=14)\n",
    "\n",
    "plt.title('Prediction vs VALUE for Months 113',fontsize=18)\n",
    "plt.show()"
   ]
  },
  {
   "cell_type": "code",
   "execution_count": 53,
   "id": "ef5f66a4",
   "metadata": {},
   "outputs": [
    {
     "data": {
      "text/plain": [
       "0.03125613887677039"
      ]
     },
     "execution_count": 53,
     "metadata": {},
     "output_type": "execute_result"
    }
   ],
   "source": [
    "x = 0\n",
    "sum_diff = 0\n",
    "for i in list(prediction['1_fold']):\n",
    "    sum_diff += abs(i-list(df_filtered[df_filtered['month_seq']==113]['VALUE'])[x])\n",
    "    x+=1\n",
    "mae = sum_diff/len(prediction['1_fold'])\n",
    "mae"
   ]
  },
  {
   "cell_type": "code",
   "execution_count": 54,
   "id": "8cbf4e42",
   "metadata": {},
   "outputs": [
    {
     "data": {
      "text/plain": [
       "0.043139878900797415"
      ]
     },
     "execution_count": 54,
     "metadata": {},
     "output_type": "execute_result"
    }
   ],
   "source": [
    "x = 0\n",
    "sum_diff_sq = 0\n",
    "for i in list(prediction['1_fold']):\n",
    "    sum_diff_sq += (i-list(df_filtered[df_filtered['month_seq']==113]['VALUE'])[x])**2\n",
    "    x+=1\n",
    "rmse = (sum_diff_sq/len(prediction['1_fold']))**.5\n",
    "rmse"
   ]
  },
  {
   "cell_type": "code",
   "execution_count": 55,
   "id": "72c96728",
   "metadata": {},
   "outputs": [
    {
     "data": {
      "image/png": "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\n",
      "text/plain": [
       "<Figure size 576x576 with 1 Axes>"
      ]
     },
     "metadata": {
      "needs_background": "light"
     },
     "output_type": "display_data"
    }
   ],
   "source": [
    "plt.figure(figsize=(8,8))\n",
    "plt.scatter(prediction['2_fold'],df_filtered[df_filtered['month_seq']==114]['VALUE'])\n",
    "plt.xlabel('VALUE',fontsize=14)\n",
    "plt.ylabel('Prediction',fontsize=14)\n",
    "\n",
    "plt.title('Prediction vs VALUE for Months 114',fontsize=18)\n",
    "plt.show()"
   ]
  },
  {
   "cell_type": "code",
   "execution_count": 56,
   "id": "e4961214",
   "metadata": {},
   "outputs": [
    {
     "data": {
      "text/plain": [
       "0.028194207752526106"
      ]
     },
     "execution_count": 56,
     "metadata": {},
     "output_type": "execute_result"
    }
   ],
   "source": [
    "x = 0\n",
    "sum_diff = 0\n",
    "for i in list(prediction['2_fold']):\n",
    "    sum_diff += abs(i-list(df_filtered[df_filtered['month_seq']==114]['VALUE'])[x])\n",
    "    x+=1\n",
    "mae = sum_diff/len(prediction['2_fold'])\n",
    "mae"
   ]
  },
  {
   "cell_type": "code",
   "execution_count": 57,
   "id": "84b993b7",
   "metadata": {},
   "outputs": [
    {
     "data": {
      "text/plain": [
       "0.03527273946832479"
      ]
     },
     "execution_count": 57,
     "metadata": {},
     "output_type": "execute_result"
    }
   ],
   "source": [
    "x = 0\n",
    "sum_diff_sq = 0\n",
    "for i in list(prediction['2_fold']):\n",
    "    sum_diff_sq += (i-list(df_filtered[df_filtered['month_seq']==114]['VALUE'])[x])**2\n",
    "    x+=1\n",
    "rmse = (sum_diff_sq/len(prediction['2_fold']))**.5\n",
    "rmse"
   ]
  },
  {
   "cell_type": "code",
   "execution_count": null,
   "id": "ad8fddc0",
   "metadata": {},
   "outputs": [],
   "source": []
  }
 ],
 "metadata": {
  "kernelspec": {
   "display_name": "Python 3 (ipykernel)",
   "language": "python",
   "name": "python3"
  },
  "language_info": {
   "codemirror_mode": {
    "name": "ipython",
    "version": 3
   },
   "file_extension": ".py",
   "mimetype": "text/x-python",
   "name": "python",
   "nbconvert_exporter": "python",
   "pygments_lexer": "ipython3",
   "version": "3.8.12"
  }
 },
 "nbformat": 4,
 "nbformat_minor": 5
}
